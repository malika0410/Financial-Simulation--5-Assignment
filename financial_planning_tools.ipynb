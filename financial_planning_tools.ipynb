{
 "cells": [
  {
   "cell_type": "markdown",
   "metadata": {},
   "source": [
    "# Financial Planning with APIs and Simulations\n",
    "\n",
    "In this Challenge, you’ll create two financial analysis tools by using a single Jupyter notebook:\n",
    "\n",
    "Part 1: A financial planner for emergencies. The members will be able to use this tool to visualize their current savings. The members can then determine if they have enough reserves for an emergency fund.\n",
    "\n",
    "Part 2: A financial planner for retirement. This tool will forecast the performance of their retirement portfolio in 30 years. To do this, the tool will make an Alpaca API call via the Alpaca SDK to get historical price data for use in Monte Carlo simulations.\n",
    "\n",
    "You’ll use the information from the Monte Carlo simulation to answer questions about the portfolio in your Jupyter notebook.\n",
    "\n"
   ]
  },
  {
   "cell_type": "code",
   "execution_count": 1,
   "metadata": {},
   "outputs": [],
   "source": [
    "# Import the required libraries and dependencies\n",
    "import os\n",
    "import requests\n",
    "import json\n",
    "import pandas as pd\n",
    "from dotenv import load_dotenv\n",
    "import alpaca_trade_api as tradeapi\n",
    "from MCForecastTools import MCSimulation\n",
    "import datetime as datetime\n",
    "import warnings \n",
    "warnings.simplefilter(\"ignore\")\n",
    "\n",
    "%matplotlib inline"
   ]
  },
  {
   "cell_type": "code",
   "execution_count": 2,
   "metadata": {},
   "outputs": [
    {
     "data": {
      "text/plain": [
       "True"
      ]
     },
     "execution_count": 2,
     "metadata": {},
     "output_type": "execute_result"
    }
   ],
   "source": [
    "# Load the environment variables from the .env file\n",
    "#by calling the load_dotenv function\n",
    "load_dotenv('SAMPLE.env')"
   ]
  },
  {
   "cell_type": "markdown",
   "metadata": {},
   "source": [
    "## Part 1: Create a Financial Planner for Emergencies"
   ]
  },
  {
   "cell_type": "markdown",
   "metadata": {},
   "source": [
    "### Evaluate the Cryptocurrency Wallet by Using the Requests Library\n",
    "\n",
    "In this section, you’ll determine the current value of a member’s cryptocurrency wallet. You’ll collect the current prices for the Bitcoin and Ethereum cryptocurrencies by using the Python Requests library. For the prototype, you’ll assume that the member holds the 1.2 Bitcoins (BTC) and 5.3 Ethereum coins (ETH). To do all this, complete the following steps:\n",
    "\n",
    "1. Create a variable named `monthly_income`, and set its value to `12000`.\n",
    "\n",
    "2. Use the Requests library to get the current price (in US dollars) of Bitcoin (BTC) and Ethereum (ETH) by using the API endpoints that the starter code supplies.\n",
    "\n",
    "3. Navigate the JSON response object to access the current price of each coin, and store each in a variable.\n",
    "\n",
    "    > **Hint** Note the specific identifier for each cryptocurrency in the API JSON response. The Bitcoin identifier is `1`, and the Ethereum identifier is `1027`.\n",
    "\n",
    "4. Calculate the value, in US dollars, of the current amount of each cryptocurrency and of the entire cryptocurrency wallet.\n",
    "\n"
   ]
  },
  {
   "cell_type": "code",
   "execution_count": 3,
   "metadata": {},
   "outputs": [],
   "source": [
    "# The current number of coins for each cryptocurrency asset held in the portfolio.\n",
    "btc_coins = 1.2\n",
    "eth_coins = 5.3"
   ]
  },
  {
   "cell_type": "markdown",
   "metadata": {},
   "source": [
    "#### Step 1: Create a variable named `monthly_income`, and set its value to `12000`."
   ]
  },
  {
   "cell_type": "code",
   "execution_count": 4,
   "metadata": {},
   "outputs": [],
   "source": [
    "# The monthly amount for the member's household income\n",
    "monthly_income=12000\n"
   ]
  },
  {
   "cell_type": "markdown",
   "metadata": {},
   "source": [
    "#### Review the endpoint URLs for the API calls to Free Crypto API in order to get the current pricing information for both BTC and ETH."
   ]
  },
  {
   "cell_type": "code",
   "execution_count": 5,
   "metadata": {},
   "outputs": [],
   "source": [
    "# The Free Crypto API Call endpoint URLs for the held cryptocurrency assets\n",
    "btc_url = \"https://api.alternative.me/v2/ticker/Bitcoin/?convert=USD\"\n",
    "eth_url = \"https://api.alternative.me/v2/ticker/Ethereum/?convert=USD\""
   ]
  },
  {
   "cell_type": "markdown",
   "metadata": {},
   "source": [
    "#### Step 2. Use the Requests library to get the current price (in US dollars) of Bitcoin (BTC) and Ethereum (ETH) by using the API endpoints that the starter code supplied."
   ]
  },
  {
   "cell_type": "code",
   "execution_count": 6,
   "metadata": {},
   "outputs": [
    {
     "name": "stdout",
     "output_type": "stream",
     "text": [
      "{\n",
      "   \"data\": {\n",
      "      \"1\": {\n",
      "         \"circulating_supply\": 19357168,\n",
      "         \"id\": 1,\n",
      "         \"last_updated\": 1682558999,\n",
      "         \"max_supply\": 21000000,\n",
      "         \"name\": \"Bitcoin\",\n",
      "         \"quotes\": {\n",
      "            \"USD\": {\n",
      "               \"market_cap\": 563064558628,\n",
      "               \"percent_change_1h\": -1.4927747586262,\n",
      "               \"percent_change_24h\": 2.10402276500307,\n",
      "               \"percent_change_7d\": 0.257354049016793,\n",
      "               \"percentage_change_1h\": -1.4927747586262,\n",
      "               \"percentage_change_24h\": 2.10402276500307,\n",
      "               \"percentage_change_7d\": 0.257354049016793,\n",
      "               \"price\": 28907.0,\n",
      "               \"volume_24h\": 33207356118\n",
      "            }\n",
      "         },\n",
      "         \"rank\": 1,\n",
      "         \"symbol\": \"BTC\",\n",
      "         \"total_supply\": 19357168,\n",
      "         \"website_slug\": \"bitcoin\"\n",
      "      }\n",
      "   },\n",
      "   \"metadata\": {\n",
      "      \"error\": null,\n",
      "      \"num_cryptocurrencies\": 3119,\n",
      "      \"timestamp\": 1682558999\n",
      "   }\n",
      "}\n"
     ]
    }
   ],
   "source": [
    "# Using the Python requests library, make an API call to access the current price of BTC\n",
    "btc_response =requests.get(btc_url).json()\n",
    "\n",
    "# Use the json.dumps function to review the response data from the API call\n",
    "# Use the indent and sort_keys parameters to make the response object readable\n",
    "print(json.dumps(btc_response, indent= 3, sort_keys= True))\n"
   ]
  },
  {
   "cell_type": "code",
   "execution_count": 7,
   "metadata": {},
   "outputs": [
    {
     "name": "stdout",
     "output_type": "stream",
     "text": [
      "{\n",
      "   \"data\": {\n",
      "      \"1027\": {\n",
      "         \"circulating_supply\": 120404793,\n",
      "         \"id\": 1027,\n",
      "         \"last_updated\": 1682558994,\n",
      "         \"max_supply\": 120404793,\n",
      "         \"name\": \"Ethereum\",\n",
      "         \"quotes\": {\n",
      "            \"USD\": {\n",
      "               \"market_cap\": 230801928505,\n",
      "               \"percent_change_1h\": -0.764631009237446,\n",
      "               \"percent_change_24h\": 2.0916846312557,\n",
      "               \"percent_change_7d\": -1.4827500289383,\n",
      "               \"percentage_change_1h\": -0.764631009237446,\n",
      "               \"percentage_change_24h\": 2.0916846312557,\n",
      "               \"percentage_change_7d\": -1.4827500289383,\n",
      "               \"price\": 1907.71,\n",
      "               \"volume_24h\": 17546513345\n",
      "            }\n",
      "         },\n",
      "         \"rank\": 2,\n",
      "         \"symbol\": \"ETH\",\n",
      "         \"total_supply\": 120404793,\n",
      "         \"website_slug\": \"ethereum\"\n",
      "      }\n",
      "   },\n",
      "   \"metadata\": {\n",
      "      \"error\": null,\n",
      "      \"num_cryptocurrencies\": 3119,\n",
      "      \"timestamp\": 1682558994\n",
      "   }\n",
      "}\n"
     ]
    }
   ],
   "source": [
    "# Using the Python requests library, make an API call to access the current price ETH\n",
    "eth_response =requests.get(eth_url).json()\n",
    "\n",
    "# Use the json.dumps function to review the response data from the API call\n",
    "\n",
    "# Use the indent and sort_keys parameters to make the response object readable\n",
    "print(json.dumps(eth_response, indent= 3, sort_keys= True))\n"
   ]
  },
  {
   "cell_type": "markdown",
   "metadata": {},
   "source": [
    "#### Step 3: Navigate the JSON response object to access the current price of each coin, and store each in a variable."
   ]
  },
  {
   "cell_type": "code",
   "execution_count": 8,
   "metadata": {},
   "outputs": [
    {
     "name": "stdout",
     "output_type": "stream",
     "text": [
      "The Price of the bitcoin is 28907.00\n"
     ]
    }
   ],
   "source": [
    "# Navigate the BTC response object to access the current price of BTC\n",
    "btc_price =btc_response[\"data\"][\"1\"][\"quotes\"][\"USD\"][\"price\"]\n",
    "\n",
    "# Print the current price of BTC\n",
    "print(f\"The Price of the bitcoin is {btc_price:.2f}\")"
   ]
  },
  {
   "cell_type": "code",
   "execution_count": 9,
   "metadata": {},
   "outputs": [
    {
     "name": "stdout",
     "output_type": "stream",
     "text": [
      "The Price of the Ethereum is 1907.71\n"
     ]
    }
   ],
   "source": [
    "# Navigate the BTC response object to access the current price of ETH\n",
    "eth_price =eth_response[\"data\"][\"1027\"][\"quotes\"][\"USD\"][\"price\"]\n",
    "\n",
    "# Print the current price of ETH\n",
    "print(f\"The Price of the Ethereum is {eth_price:.2f}\")\n"
   ]
  },
  {
   "cell_type": "markdown",
   "metadata": {},
   "source": [
    "### Step 4: Calculate the value, in US dollars, of the current amount of each cryptocurrency and of the entire cryptocurrency wallet."
   ]
  },
  {
   "cell_type": "code",
   "execution_count": 10,
   "metadata": {},
   "outputs": [
    {
     "name": "stdout",
     "output_type": "stream",
     "text": [
      "The Current Value of the bitcoin is 34688.40\n"
     ]
    }
   ],
   "source": [
    "# Compute the current value of the BTC holding \n",
    "btc_value =btc_coins*btc_price\n",
    "\n",
    "# Print current value of your holding in BTC\n",
    "print(f\"The Current Value of the bitcoin is {btc_value:.2f}\")"
   ]
  },
  {
   "cell_type": "code",
   "execution_count": 11,
   "metadata": {},
   "outputs": [
    {
     "name": "stdout",
     "output_type": "stream",
     "text": [
      "The Current Value of the Ethereum is 10110.86\n"
     ]
    }
   ],
   "source": [
    "# Compute the current value of the ETH holding \n",
    "eth_value = eth_coins*eth_price\n",
    "\n",
    "# Print current value of your holding in ETH\n",
    "print(f\"The Current Value of the Ethereum is {eth_value:.2f}\")\n"
   ]
  },
  {
   "cell_type": "code",
   "execution_count": 12,
   "metadata": {},
   "outputs": [
    {
     "name": "stdout",
     "output_type": "stream",
     "text": [
      "The Total Crypto Wallet is 44799.26\n"
     ]
    }
   ],
   "source": [
    "# Compute the total value of the cryptocurrency wallet\n",
    "# Add the value of the BTC holding to the value of the ETH holding\n",
    "total_crypto_wallet = btc_value+eth_value\n",
    "\n",
    "# Print current cryptocurrency wallet balance\n",
    "print(f\"The Total Crypto Wallet is {total_crypto_wallet:.2f}\")\n"
   ]
  },
  {
   "cell_type": "markdown",
   "metadata": {},
   "source": [
    "### Evaluate the Stock and Bond Holdings by Using the Alpaca SDK\n",
    "\n",
    "In this section, you’ll determine the current value of a member’s stock and bond holdings. You’ll make an API call to Alpaca via the Alpaca SDK to get the current closing prices of the SPDR S&P 500 ETF Trust (ticker: SPY) and of the iShares Core US Aggregate Bond ETF (ticker: AGG). For the prototype, assume that the member holds 110 shares of SPY, which represents the stock portion of their portfolio, and 200 shares of AGG, which represents the bond portion. To do all this, complete the following steps:\n",
    "\n",
    "1. In the `Starter_Code` folder, create an environment file (`.env`) to store the values of your Alpaca API key and Alpaca secret key.\n",
    "\n",
    "2. Set the variables for the Alpaca API and secret keys. Using the Alpaca SDK, create the Alpaca `tradeapi.REST` object. In this object, include the parameters for the Alpaca API key, the secret key, and the version number.\n",
    "\n",
    "3. Set the following parameters for the Alpaca API call:\n",
    "\n",
    "    - `tickers`: Use the tickers for the member’s stock and bond holdings.\n",
    "\n",
    "    - `timeframe`: Use a time frame of one day.\n",
    "\n",
    "    - `start_date` and `end_date`: Use the same date for these parameters, and format them with the date of the previous weekday (or `2020-08-07`). This is because you want the one closing price for the most-recent trading day.\n",
    "\n",
    "4. Get the current closing prices for `SPY` and `AGG` by using the Alpaca `get_bars` function. Format the response as a Pandas DataFrame by including the `df` property at the end of the `get_bars` function.\n",
    "\n",
    "5. Navigating the Alpaca response DataFrame, select the `SPY` and `AGG` closing prices, and store them as variables.\n",
    "\n",
    "6. Calculate the value, in US dollars, of the current amount of shares in each of the stock and bond portions of the portfolio, and print the results.\n"
   ]
  },
  {
   "cell_type": "markdown",
   "metadata": {},
   "source": [
    "#### Review the total number of shares held in both (SPY) and (AGG)."
   ]
  },
  {
   "cell_type": "code",
   "execution_count": 13,
   "metadata": {},
   "outputs": [],
   "source": [
    "# Current amount of shares held in both the stock (SPY) and bond (AGG) portion of the portfolio.\n",
    "spy_shares = 110\n",
    "agg_shares = 200\n"
   ]
  },
  {
   "cell_type": "markdown",
   "metadata": {},
   "source": [
    "#### Step 1: In the `Starter_Code` folder, create an environment file (`.env`) to store the values of your Alpaca API key and Alpaca secret key."
   ]
  },
  {
   "cell_type": "markdown",
   "metadata": {},
   "source": [
    "#### Step 2: Set the variables for the Alpaca API and secret keys. Using the Alpaca SDK, create the Alpaca `tradeapi.REST` object. In this object, include the parameters for the Alpaca API key, the secret key, and the version number."
   ]
  },
  {
   "cell_type": "code",
   "execution_count": 14,
   "metadata": {},
   "outputs": [
    {
     "data": {
      "text/plain": [
       "str"
      ]
     },
     "metadata": {},
     "output_type": "display_data"
    },
    {
     "data": {
      "text/plain": [
       "str"
      ]
     },
     "metadata": {},
     "output_type": "display_data"
    }
   ],
   "source": [
    "# Set the variables for the Alpaca API and secret keys\n",
    "alpaca_api_key=os.getenv(\"ALPACA_API_KEY\")\n",
    "alpaca_secret_key = os.getenv(\"ALPACA_SECRET_KEY\")\n",
    "\n",
    "display(type(alpaca_api_key))\n",
    "display(type(alpaca_secret_key))\n",
    "\n",
    "# Create the Alpaca tradeapi.REST object\n",
    "api = tradeapi.REST(\n",
    "    alpaca_api_key,\n",
    "    alpaca_secret_key,\n",
    "    api_version = \"v2\"\n",
    ")"
   ]
  },
  {
   "cell_type": "markdown",
   "metadata": {},
   "source": [
    "#### Step 3: Set the following parameters for the Alpaca API call:\n",
    "\n",
    "- `tickers`: Use the tickers for the member’s stock and bond holdings.\n",
    "\n",
    "- `timeframe`: Use a time frame of one day.\n",
    "\n",
    "- `start_date` and `end_date`: Use the same date for these parameters, and format them with the date of the previous weekday (or `2020-08-07`). This is because you want the one closing price for the most-recent trading day.\n"
   ]
  },
  {
   "cell_type": "code",
   "execution_count": 15,
   "metadata": {},
   "outputs": [],
   "source": [
    "# Set the tickers for both the bond and stock portion of the portfolio\n",
    "tickers = [\"SPY\",\"AGG\"]\n",
    "\n",
    "# Set timeframe to 1Day\n",
    "timeframe = \"1Day\"\n",
    "\n",
    "# Format current date as ISO format\n",
    "# Set both the start and end date at the date of your prior weekday \n",
    "# This will give you the closing price of the previous trading day\n",
    "# Alternatively you can use a start and end date of 2020-08-07\n",
    "start_date = pd.Timestamp(\"2020-08-07\", tz=\"America/New_York\").isoformat()\n",
    "end_date = pd.Timestamp(\"2020-08-07\", tz=\"America/New_York\").isoformat()\n",
    "\n"
   ]
  },
  {
   "cell_type": "markdown",
   "metadata": {},
   "source": [
    "#### Step 4: Get the current closing prices for `SPY` and `AGG` by using the Alpaca `get_bars` function. Format the response as a Pandas DataFrame by including the `df` property at the end of the `get_bars` function."
   ]
  },
  {
   "cell_type": "code",
   "execution_count": 16,
   "metadata": {},
   "outputs": [
    {
     "data": {
      "text/html": [
       "<div>\n",
       "<style scoped>\n",
       "    .dataframe tbody tr th:only-of-type {\n",
       "        vertical-align: middle;\n",
       "    }\n",
       "\n",
       "    .dataframe tbody tr th {\n",
       "        vertical-align: top;\n",
       "    }\n",
       "\n",
       "    .dataframe thead tr th {\n",
       "        text-align: left;\n",
       "    }\n",
       "\n",
       "    .dataframe thead tr:last-of-type th {\n",
       "        text-align: right;\n",
       "    }\n",
       "</style>\n",
       "<table border=\"1\" class=\"dataframe\">\n",
       "  <thead>\n",
       "    <tr>\n",
       "      <th></th>\n",
       "      <th colspan=\"7\" halign=\"left\">SPY</th>\n",
       "      <th colspan=\"7\" halign=\"left\">AGG</th>\n",
       "    </tr>\n",
       "    <tr>\n",
       "      <th></th>\n",
       "      <th>open</th>\n",
       "      <th>high</th>\n",
       "      <th>low</th>\n",
       "      <th>close</th>\n",
       "      <th>volume</th>\n",
       "      <th>trade_count</th>\n",
       "      <th>vwap</th>\n",
       "      <th>open</th>\n",
       "      <th>high</th>\n",
       "      <th>low</th>\n",
       "      <th>close</th>\n",
       "      <th>volume</th>\n",
       "      <th>trade_count</th>\n",
       "      <th>vwap</th>\n",
       "    </tr>\n",
       "    <tr>\n",
       "      <th>timestamp</th>\n",
       "      <th></th>\n",
       "      <th></th>\n",
       "      <th></th>\n",
       "      <th></th>\n",
       "      <th></th>\n",
       "      <th></th>\n",
       "      <th></th>\n",
       "      <th></th>\n",
       "      <th></th>\n",
       "      <th></th>\n",
       "      <th></th>\n",
       "      <th></th>\n",
       "      <th></th>\n",
       "      <th></th>\n",
       "    </tr>\n",
       "  </thead>\n",
       "  <tbody>\n",
       "    <tr>\n",
       "      <th>2020-08-07 04:00:00+00:00</th>\n",
       "      <td>333.28</td>\n",
       "      <td>334.88</td>\n",
       "      <td>332.3</td>\n",
       "      <td>334.57</td>\n",
       "      <td>57282821</td>\n",
       "      <td>350100</td>\n",
       "      <td>333.800372</td>\n",
       "      <td>119.66</td>\n",
       "      <td>119.73</td>\n",
       "      <td>119.395</td>\n",
       "      <td>119.43</td>\n",
       "      <td>5559066</td>\n",
       "      <td>15246</td>\n",
       "      <td>119.475306</td>\n",
       "    </tr>\n",
       "  </tbody>\n",
       "</table>\n",
       "</div>"
      ],
      "text/plain": [
       "                              SPY                                   \\\n",
       "                             open    high    low   close    volume   \n",
       "timestamp                                                            \n",
       "2020-08-07 04:00:00+00:00  333.28  334.88  332.3  334.57  57282821   \n",
       "\n",
       "                                                      AGG                   \\\n",
       "                          trade_count        vwap    open    high      low   \n",
       "timestamp                                                                    \n",
       "2020-08-07 04:00:00+00:00      350100  333.800372  119.66  119.73  119.395   \n",
       "\n",
       "                                                                    \n",
       "                            close   volume trade_count        vwap  \n",
       "timestamp                                                           \n",
       "2020-08-07 04:00:00+00:00  119.43  5559066       15246  119.475306  "
      ]
     },
     "execution_count": 16,
     "metadata": {},
     "output_type": "execute_result"
    }
   ],
   "source": [
    "# Use the Alpaca get_bars function to get current closing prices the portfolio\n",
    "# Be sure to set the `df` property after the function to format the response object as a DataFrame\n",
    "ticker_data = api.get_bars(\n",
    "    tickers,\n",
    "    timeframe,\n",
    "    start=start_date,\n",
    "    end=end_date\n",
    ").df\n",
    "# Reorganize the DataFrame\n",
    "spy = ticker_data[ticker_data['symbol']=='SPY'].drop('symbol', axis=1)\n",
    "agg = ticker_data[ticker_data['symbol']=='AGG'].drop('symbol', axis=1)\n",
    "\n",
    "# Separate ticker data\n",
    "\n",
    "#ticker_data= pd.concat([ticker_data], axis=1, keys=[\"AGG\"])\n",
    "# Concatenate the ticker DataFrames\n",
    "ticker_data = pd.concat([spy,agg], axis=1, keys=[\"SPY\",\"AGG\"])\n",
    "# Review the first 5 rows of the Alpaca DataFrame\n",
    "\n",
    "ticker_data.head()"
   ]
  },
  {
   "cell_type": "markdown",
   "metadata": {},
   "source": [
    "#### Step 5: Navigating the Alpaca response DataFrame, select the `SPY` and `AGG` closing prices, and store them as variables."
   ]
  },
  {
   "cell_type": "code",
   "execution_count": 17,
   "metadata": {},
   "outputs": [
    {
     "name": "stdout",
     "output_type": "stream",
     "text": [
      "The Closing price of AGG is 119.43\n"
     ]
    }
   ],
   "source": [
    "# Access the closing price for AGG from the Alpaca DataFrame\n",
    "# Converting the value to a floating point number\n",
    "agg_close_price =float(ticker_data[\"AGG\"][\"close\"])\n",
    "type(agg_close_price)\n",
    "\n",
    "# Print the AGG closing price\n",
    "print(f\"The Closing price of AGG is {agg_close_price:.2f}\")\n"
   ]
  },
  {
   "cell_type": "code",
   "execution_count": 18,
   "metadata": {},
   "outputs": [
    {
     "name": "stdout",
     "output_type": "stream",
     "text": [
      "<class 'float'>\n",
      "The Closing price of SPY is 119.43\n"
     ]
    }
   ],
   "source": [
    "# Access the closing price for SPY from the Alpaca DataFrame\n",
    "# Converting the value to a floating point number\n",
    "spy_close_price = float(ticker_data[\"AGG\"]['close'])\n",
    "\n",
    "# Print the SPY closing price\n",
    "print(type(spy_close_price))\n",
    "print(f\"The Closing price of SPY is {spy_close_price:.2f}\")\n"
   ]
  },
  {
   "cell_type": "markdown",
   "metadata": {},
   "source": [
    "#### Step 6: Calculate the value, in US dollars, of the current amount of shares in each of the stock and bond portions of the portfolio, and print the results."
   ]
  },
  {
   "cell_type": "code",
   "execution_count": 19,
   "metadata": {},
   "outputs": [
    {
     "name": "stdout",
     "output_type": "stream",
     "text": [
      "The Current value of AGG is 23886.00\n"
     ]
    }
   ],
   "source": [
    "# Calculate the current value of the bond portion of the portfolio\n",
    "agg_value = agg_close_price*agg_shares\n",
    "\n",
    "# Print the current value of the bond portfolio\n",
    "# YOUR CODE HERE\n",
    "print(f\"The Current value of AGG is {agg_value:.2f}\")"
   ]
  },
  {
   "cell_type": "code",
   "execution_count": 20,
   "metadata": {},
   "outputs": [
    {
     "name": "stdout",
     "output_type": "stream",
     "text": [
      "The Current value of SPY is 13137.30\n"
     ]
    }
   ],
   "source": [
    "# Calculate the current value of the stock portion of the portfolio\n",
    "spy_value = spy_close_price*spy_shares\n",
    "\n",
    "# Print the current value of the stock portfolio\n",
    "# YOUR CODE HERE\n",
    "print(f\"The Current value of SPY is {spy_value:.2f}\")"
   ]
  },
  {
   "cell_type": "code",
   "execution_count": 21,
   "metadata": {},
   "outputs": [
    {
     "name": "stdout",
     "output_type": "stream",
     "text": [
      "The current balance of the stock and bond portion of the portfolio is $37023.30\n"
     ]
    }
   ],
   "source": [
    "# Calculate the total value of the stock and bond portion of the portfolio\n",
    "total_stocks_bonds =spy_value + agg_value\n",
    "\n",
    "# Print the current balance of the stock and bond portion of the portfolio\n",
    "print(f\"The current balance of the stock and bond portion of the portfolio is ${total_stocks_bonds:.2f}\")\n"
   ]
  },
  {
   "cell_type": "code",
   "execution_count": 22,
   "metadata": {},
   "outputs": [
    {
     "name": "stdout",
     "output_type": "stream",
     "text": [
      "Total value of entire portfolio(Stocks, Bonds and Cryptos) is $81822.56\n"
     ]
    }
   ],
   "source": [
    "# Calculate the total value of the member's entire savings portfolio\n",
    "# Add the value of the cryptocurrency walled to the value of the total stocks and bonds\n",
    "total_portfolio = total_crypto_wallet + total_stocks_bonds\n",
    "\n",
    "# Print current cryptocurrency wallet balance\n",
    "print(f\"Total value of entire portfolio(Stocks, Bonds and Cryptos) is ${total_portfolio:.2f}\")\n"
   ]
  },
  {
   "cell_type": "markdown",
   "metadata": {},
   "source": [
    "### Evaluate the Emergency Fund\n",
    "\n",
    "In this section, you’ll use the valuations for the cryptocurrency wallet and for the stock and bond portions of the portfolio to determine if the credit union member has enough savings to build an emergency fund into their financial plan. To do this, complete the following steps:\n",
    "\n",
    "1. Create a Python list named `savings_data` that has two elements. The first element contains the total value of the cryptocurrency wallet. The second element contains the total value of the stock and bond portions of the portfolio.\n",
    "\n",
    "2. Use the `savings_data` list to create a Pandas DataFrame named `savings_df`, and then display this DataFrame. The function to create the DataFrame should take the following three parameters:\n",
    "\n",
    "    - `savings_data`: Use the list that you just created.\n",
    "\n",
    "    - `columns`: Set this parameter equal to a Python list with a single value called `amount`.\n",
    "\n",
    "    - `index`: Set this parameter equal to a Python list with the values of `crypto` and `stock/bond`.\n",
    "\n",
    "3. Use the `savings_df` DataFrame to plot a pie chart that visualizes the composition of the member’s portfolio. The y-axis of the pie chart uses `amount`. Be sure to add a title.\n",
    "\n",
    "4. Using Python, determine if the current portfolio has enough to create an emergency fund as part of the member’s financial plan. Ideally, an emergency fund should equal to three times the member’s monthly income. To do this, implement the following steps:\n",
    "\n",
    "    1. Create a variable named `emergency_fund_value`, and set it equal to three times the value of the member’s `monthly_income` of $12000. (You set this earlier in Part 1).\n",
    "\n",
    "    2. Create a series of three if statements to determine if the member’s total portfolio is large enough to fund the emergency portfolio:\n",
    "\n",
    "        1. If the total portfolio value is greater than the emergency fund value, display a message congratulating the member for having enough money in this fund.\n",
    "\n",
    "        2. Else if the total portfolio value is equal to the emergency fund value, display a message congratulating the member on reaching this important financial goal.\n",
    "\n",
    "        3. Else the total portfolio is less than the emergency fund value, so display a message showing how many dollars away the member is from reaching the goal. (Subtract the total portfolio value from the emergency fund value.)\n"
   ]
  },
  {
   "cell_type": "markdown",
   "metadata": {},
   "source": [
    "#### Step 1: Create a Python list named `savings_data` that has two elements. The first element contains the total value of the cryptocurrency wallet. The second element contains the total value of the stock and bond portions of the portfolio."
   ]
  },
  {
   "cell_type": "code",
   "execution_count": 23,
   "metadata": {},
   "outputs": [
    {
     "data": {
      "text/plain": [
       "['Crypto total', 'Stocks/Bonds total']"
      ]
     },
     "execution_count": 23,
     "metadata": {},
     "output_type": "execute_result"
    }
   ],
   "source": [
    "# Consolidate financial assets data into a Python list\n",
    "savings_data=[\"Crypto total\",\"Stocks/Bonds total\"]\n",
    "\n",
    "# Review the Python list savings_data\n",
    "savings_data   "
   ]
  },
  {
   "cell_type": "markdown",
   "metadata": {},
   "source": [
    "#### Step 2: Use the `savings_data` list to create a Pandas DataFrame named `savings_df`, and then display this DataFrame. The function to create the DataFrame should take the following three parameters:\n",
    "\n",
    "- `savings_data`: Use the list that you just created.\n",
    "\n",
    "- `columns`: Set this parameter equal to a Python list with a single value called `amount`.\n",
    "\n",
    "- `index`: Set this parameter equal to a Python list with the values of `crypto` and `stock/bond`.\n"
   ]
  },
  {
   "cell_type": "code",
   "execution_count": 24,
   "metadata": {},
   "outputs": [
    {
     "data": {
      "text/html": [
       "<div>\n",
       "<style scoped>\n",
       "    .dataframe tbody tr th:only-of-type {\n",
       "        vertical-align: middle;\n",
       "    }\n",
       "\n",
       "    .dataframe tbody tr th {\n",
       "        vertical-align: top;\n",
       "    }\n",
       "\n",
       "    .dataframe thead th {\n",
       "        text-align: right;\n",
       "    }\n",
       "</style>\n",
       "<table border=\"1\" class=\"dataframe\">\n",
       "  <thead>\n",
       "    <tr style=\"text-align: right;\">\n",
       "      <th></th>\n",
       "      <th>Amount</th>\n",
       "    </tr>\n",
       "  </thead>\n",
       "  <tbody>\n",
       "    <tr>\n",
       "      <th>Crypto total</th>\n",
       "      <td>44799.263</td>\n",
       "    </tr>\n",
       "    <tr>\n",
       "      <th>Stocks/Bonds total</th>\n",
       "      <td>37023.300</td>\n",
       "    </tr>\n",
       "  </tbody>\n",
       "</table>\n",
       "</div>"
      ],
      "text/plain": [
       "                       Amount\n",
       "Crypto total        44799.263\n",
       "Stocks/Bonds total  37023.300"
      ]
     },
     "execution_count": 24,
     "metadata": {},
     "output_type": "execute_result"
    }
   ],
   "source": [
    "# Create a Pandas DataFrame called savings_df \n",
    "savings_df=pd.DataFrame({\"Amount\": [total_crypto_wallet, total_stocks_bonds]},\n",
    "    index= savings_data)\n",
    "\n",
    "# Display the savings_df DataFrame\n",
    "savings_df\n"
   ]
  },
  {
   "cell_type": "markdown",
   "metadata": {},
   "source": [
    "#### Step 3: Use the `savings_df` DataFrame to plot a pie chart that visualizes the composition of the member’s portfolio. The y-axis of the pie chart uses `amount`. Be sure to add a title."
   ]
  },
  {
   "cell_type": "code",
   "execution_count": 25,
   "metadata": {},
   "outputs": [
    {
     "data": {
      "text/plain": [
       "<AxesSubplot:title={'center':'Portfolio Composition - Crypto and Stocks/Bonds'}, ylabel='Amount'>"
      ]
     },
     "execution_count": 25,
     "metadata": {},
     "output_type": "execute_result"
    },
    {
     "data": {
      "image/png": "[encoded data removed]",
      "text/plain": [
       "<Figure size 640x480 with 1 Axes>"
      ]
     },
     "metadata": {},
     "output_type": "display_data"
    }
   ],
   "source": [
    "# Plot the total value of the member's portfolio (crypto and stock/bond) in a pie chart\n",
    "savings_df.plot.pie(y=\"Amount\",\n",
    "    title= \"Portfolio Composition - Crypto and Stocks/Bonds\")\n"
   ]
  },
  {
   "cell_type": "markdown",
   "metadata": {},
   "source": [
    "#### Step 4: Using Python, determine if the current portfolio has enough to create an emergency fund as part of the member’s financial plan. Ideally, an emergency fund should equal to three times the member’s monthly income. To do this, implement the following steps:\n",
    "\n",
    "Step 1. Create a variable named `emergency_fund_value`, and set it equal to three times the value of the member’s `monthly_income` of 12000. (You set this earlier in Part 1).\n",
    "\n",
    "Step 2. Create a series of three if statements to determine if the member’s total portfolio is large enough to fund the emergency portfolio:\n",
    "\n",
    "* If the total portfolio value is greater than the emergency fund value, display a message congratulating the member for having enough money in this fund.\n",
    "\n",
    "* Else if the total portfolio value is equal to the emergency fund value, display a message congratulating the member on reaching this important financial goal.\n",
    "\n",
    "* Else the total portfolio is less than the emergency fund value, so display a message showing how many dollars away the member is from reaching the goal. (Subtract the total portfolio value from the emergency fund value.)\n"
   ]
  },
  {
   "cell_type": "markdown",
   "metadata": {},
   "source": [
    "##### Step 4-1: Create a variable named `emergency_fund_value`, and set it equal to three times the value of the member’s `monthly_income` of 12000. (You set this earlier in Part 1)."
   ]
  },
  {
   "cell_type": "code",
   "execution_count": 26,
   "metadata": {},
   "outputs": [
    {
     "data": {
      "text/plain": [
       "36000"
      ]
     },
     "execution_count": 26,
     "metadata": {},
     "output_type": "execute_result"
    }
   ],
   "source": [
    "# Create a variable named emergency_fund_value\n",
    "emergency_fund_value=monthly_income*3\n",
    "emergency_fund_value"
   ]
  },
  {
   "cell_type": "markdown",
   "metadata": {},
   "source": [
    "##### Step 4-2: Create a series of three if statements to determine if the member’s total portfolio is large enough to fund the emergency portfolio:\n",
    "\n",
    "* If the total portfolio value is greater than the emergency fund value, display a message congratulating the member for having enough money in this fund.\n",
    "\n",
    "* Else if the total portfolio value is equal to the emergency fund value, display a message congratulating the member on reaching this important financial goal.\n",
    "\n",
    "* Else the total portfolio is less than the emergency fund value, so display a message showing how many dollars away the member is from reaching the goal. (Subtract the total portfolio value from the emergency fund value.)"
   ]
  },
  {
   "cell_type": "code",
   "execution_count": 27,
   "metadata": {},
   "outputs": [
    {
     "name": "stdout",
     "output_type": "stream",
     "text": [
      "Congratulations!!! You have enough money in this fund.\n"
     ]
    }
   ],
   "source": [
    "# Evaluate the possibility of creating an emergency fund with 3 conditions:\n",
    "if total_portfolio > emergency_fund_value:\n",
    "    print(\"Congratulations!!! You have enough money in this fund.\")\n",
    "elif total_portfolio == emergency_fund_value:\n",
    "    print(\"Congratulations!!! You have reached the important financial goal of having 3 month emergency fund reserve\")\n",
    "elif total_portfolio < emergency_fund_value:\n",
    "    print(f\"You will need more ${emergency_fund_value-total_portfolio} to reach your goal of having emergency fund\")\n"
   ]
  },
  {
   "cell_type": "markdown",
   "metadata": {},
   "source": [
    "## Part 2: Create a Financial Planner for Retirement"
   ]
  },
  {
   "cell_type": "markdown",
   "metadata": {},
   "source": [
    "### Create the Monte Carlo Simulation\n",
    "\n",
    "In this section, you’ll use the MCForecastTools library to create a Monte Carlo simulation for the member’s savings portfolio. To do this, complete the following steps:\n",
    "\n",
    "1. Make an API call via the Alpaca SDK to get 3 years of historical closing prices for a traditional 60/40 portfolio split: 60% stocks (SPY) and 40% bonds (AGG).\n",
    "\n",
    "2. Run a Monte Carlo simulation of 500 samples and 30 years for the 60/40 portfolio, and then plot the results.The following image shows the overlay line plot resulting from a simulation with these characteristics. However, because a random number generator is used to run each live Monte Carlo simulation, your image will differ slightly from this exact image:\n",
    "\n",
    "![A screenshot depicts the resulting plot.](Images/5-4-monte-carlo-line-plot.png)\n",
    "\n",
    "3. Plot the probability distribution of the Monte Carlo simulation. Plot the probability distribution of the Monte Carlo simulation. The following image shows the histogram plot resulting from a simulation with these characteristics. However, because a random number generator is used to run each live Monte Carlo simulation, your image will differ slightly from this exact image:\n",
    "\n",
    "![A screenshot depicts the histogram plot.](Images/5-4-monte-carlo-histogram.png)\n",
    "\n",
    "4. Generate the summary statistics for the Monte Carlo simulation.\n",
    "\n"
   ]
  },
  {
   "cell_type": "markdown",
   "metadata": {},
   "source": [
    "#### Step 1: Make an API call via the Alpaca SDK to get 3 years of historical closing prices for a traditional 60/40 portfolio split: 60% stocks (SPY) and 40% bonds (AGG)."
   ]
  },
  {
   "cell_type": "code",
   "execution_count": 28,
   "metadata": {},
   "outputs": [
    {
     "data": {
      "text/plain": [
       "('2020-08-07T00:00:00-04:00', '2023-04-21T00:00:00-04:00')"
      ]
     },
     "execution_count": 28,
     "metadata": {},
     "output_type": "execute_result"
    }
   ],
   "source": [
    "# Set start and end dates of 3 years back from your current date\n",
    "# Alternatively, you can use an end date of 2020-08-07 and work 3 years back from that date \n",
    "today = str(datetime.datetime.now()).split()[0]\n",
    "five_days_back = str(datetime.datetime.now() - datetime.timedelta(days=5)).split()[0]\n",
    "one_year_back = str(datetime.datetime.now() - datetime.timedelta(days=365)).split()[0]\n",
    "three_year_back = str(datetime.datetime.now() - datetime.timedelta(days=3*365)).split()[0]\n",
    "\n",
    "start_date_three_years_back = pd.Timestamp(three_year_back, tz= \"America/New_York\").isoformat()\n",
    "end_date = pd.Timestamp(five_days_back, tz = \"America/New_York\").isoformat()\n",
    "start_date, end_date"
   ]
  },
  {
   "cell_type": "code",
   "execution_count": 29,
   "metadata": {},
   "outputs": [
    {
     "data": {
      "text/html": [
       "<div>\n",
       "<style scoped>\n",
       "    .dataframe tbody tr th:only-of-type {\n",
       "        vertical-align: middle;\n",
       "    }\n",
       "\n",
       "    .dataframe tbody tr th {\n",
       "        vertical-align: top;\n",
       "    }\n",
       "\n",
       "    .dataframe thead tr th {\n",
       "        text-align: left;\n",
       "    }\n",
       "\n",
       "    .dataframe thead tr:last-of-type th {\n",
       "        text-align: right;\n",
       "    }\n",
       "</style>\n",
       "<table border=\"1\" class=\"dataframe\">\n",
       "  <thead>\n",
       "    <tr>\n",
       "      <th></th>\n",
       "      <th colspan=\"7\" halign=\"left\">SPY</th>\n",
       "      <th colspan=\"7\" halign=\"left\">AGG</th>\n",
       "    </tr>\n",
       "    <tr>\n",
       "      <th></th>\n",
       "      <th>open</th>\n",
       "      <th>high</th>\n",
       "      <th>low</th>\n",
       "      <th>close</th>\n",
       "      <th>volume</th>\n",
       "      <th>trade_count</th>\n",
       "      <th>vwap</th>\n",
       "      <th>open</th>\n",
       "      <th>high</th>\n",
       "      <th>low</th>\n",
       "      <th>close</th>\n",
       "      <th>volume</th>\n",
       "      <th>trade_count</th>\n",
       "      <th>vwap</th>\n",
       "    </tr>\n",
       "    <tr>\n",
       "      <th>timestamp</th>\n",
       "      <th></th>\n",
       "      <th></th>\n",
       "      <th></th>\n",
       "      <th></th>\n",
       "      <th></th>\n",
       "      <th></th>\n",
       "      <th></th>\n",
       "      <th></th>\n",
       "      <th></th>\n",
       "      <th></th>\n",
       "      <th></th>\n",
       "      <th></th>\n",
       "      <th></th>\n",
       "      <th></th>\n",
       "    </tr>\n",
       "  </thead>\n",
       "  <tbody>\n",
       "    <tr>\n",
       "      <th>2023-04-17 04:00:00+00:00</th>\n",
       "      <td>412.37</td>\n",
       "      <td>413.96</td>\n",
       "      <td>411.0850</td>\n",
       "      <td>413.94</td>\n",
       "      <td>66447057</td>\n",
       "      <td>478342</td>\n",
       "      <td>412.589811</td>\n",
       "      <td>99.13</td>\n",
       "      <td>99.175</td>\n",
       "      <td>98.88</td>\n",
       "      <td>98.90</td>\n",
       "      <td>4441277</td>\n",
       "      <td>18511</td>\n",
       "      <td>98.944350</td>\n",
       "    </tr>\n",
       "    <tr>\n",
       "      <th>2023-04-18 04:00:00+00:00</th>\n",
       "      <td>415.58</td>\n",
       "      <td>415.72</td>\n",
       "      <td>412.7802</td>\n",
       "      <td>414.21</td>\n",
       "      <td>63567329</td>\n",
       "      <td>493414</td>\n",
       "      <td>414.073765</td>\n",
       "      <td>98.91</td>\n",
       "      <td>99.160</td>\n",
       "      <td>98.91</td>\n",
       "      <td>99.04</td>\n",
       "      <td>4753038</td>\n",
       "      <td>17653</td>\n",
       "      <td>99.022777</td>\n",
       "    </tr>\n",
       "    <tr>\n",
       "      <th>2023-04-19 04:00:00+00:00</th>\n",
       "      <td>412.22</td>\n",
       "      <td>415.08</td>\n",
       "      <td>412.1600</td>\n",
       "      <td>414.14</td>\n",
       "      <td>55252464</td>\n",
       "      <td>421201</td>\n",
       "      <td>413.662834</td>\n",
       "      <td>98.89</td>\n",
       "      <td>98.930</td>\n",
       "      <td>98.71</td>\n",
       "      <td>98.89</td>\n",
       "      <td>3592906</td>\n",
       "      <td>18630</td>\n",
       "      <td>98.843915</td>\n",
       "    </tr>\n",
       "    <tr>\n",
       "      <th>2023-04-20 04:00:00+00:00</th>\n",
       "      <td>411.21</td>\n",
       "      <td>413.70</td>\n",
       "      <td>410.2700</td>\n",
       "      <td>411.88</td>\n",
       "      <td>75839327</td>\n",
       "      <td>546265</td>\n",
       "      <td>412.016996</td>\n",
       "      <td>99.21</td>\n",
       "      <td>99.360</td>\n",
       "      <td>99.19</td>\n",
       "      <td>99.34</td>\n",
       "      <td>5092430</td>\n",
       "      <td>18730</td>\n",
       "      <td>99.286706</td>\n",
       "    </tr>\n",
       "    <tr>\n",
       "      <th>2023-04-21 04:00:00+00:00</th>\n",
       "      <td>412.19</td>\n",
       "      <td>412.68</td>\n",
       "      <td>410.1700</td>\n",
       "      <td>412.20</td>\n",
       "      <td>72023892</td>\n",
       "      <td>468905</td>\n",
       "      <td>411.767653</td>\n",
       "      <td>99.51</td>\n",
       "      <td>99.560</td>\n",
       "      <td>99.11</td>\n",
       "      <td>99.17</td>\n",
       "      <td>5294282</td>\n",
       "      <td>19339</td>\n",
       "      <td>99.198584</td>\n",
       "    </tr>\n",
       "  </tbody>\n",
       "</table>\n",
       "</div>"
      ],
      "text/plain": [
       "                              SPY                                      \\\n",
       "                             open    high       low   close    volume   \n",
       "timestamp                                                               \n",
       "2023-04-17 04:00:00+00:00  412.37  413.96  411.0850  413.94  66447057   \n",
       "2023-04-18 04:00:00+00:00  415.58  415.72  412.7802  414.21  63567329   \n",
       "2023-04-19 04:00:00+00:00  412.22  415.08  412.1600  414.14  55252464   \n",
       "2023-04-20 04:00:00+00:00  411.21  413.70  410.2700  411.88  75839327   \n",
       "2023-04-21 04:00:00+00:00  412.19  412.68  410.1700  412.20  72023892   \n",
       "\n",
       "                                                     AGG                 \\\n",
       "                          trade_count        vwap   open    high    low   \n",
       "timestamp                                                                 \n",
       "2023-04-17 04:00:00+00:00      478342  412.589811  99.13  99.175  98.88   \n",
       "2023-04-18 04:00:00+00:00      493414  414.073765  98.91  99.160  98.91   \n",
       "2023-04-19 04:00:00+00:00      421201  413.662834  98.89  98.930  98.71   \n",
       "2023-04-20 04:00:00+00:00      546265  412.016996  99.21  99.360  99.19   \n",
       "2023-04-21 04:00:00+00:00      468905  411.767653  99.51  99.560  99.11   \n",
       "\n",
       "                                                                  \n",
       "                           close   volume trade_count       vwap  \n",
       "timestamp                                                         \n",
       "2023-04-17 04:00:00+00:00  98.90  4441277       18511  98.944350  \n",
       "2023-04-18 04:00:00+00:00  99.04  4753038       17653  99.022777  \n",
       "2023-04-19 04:00:00+00:00  98.89  3592906       18630  98.843915  \n",
       "2023-04-20 04:00:00+00:00  99.34  5092430       18730  99.286706  \n",
       "2023-04-21 04:00:00+00:00  99.17  5294282       19339  99.198584  "
      ]
     },
     "execution_count": 29,
     "metadata": {},
     "output_type": "execute_result"
    }
   ],
   "source": [
    "# Use the Alpaca get_bars function to make the API call to get the 3 years worth of pricing data\n",
    "# The tickers and timeframe parameters should have been set in Part 1 of this activity \n",
    "# The start and end dates should be updated with the information set above\n",
    "# Remember to add the df property to the end of the call so the response is returned as a DataFrame\n",
    "ticker_data = api.get_bars(\n",
    "    tickers,\n",
    "    timeframe,\n",
    "    start=start_date_three_years_back,\n",
    "    end=end_date\n",
    ").df\n",
    "\n",
    "# Reorganize the DataFrame\n",
    "spy = ticker_data[ticker_data['symbol']=='SPY'].drop('symbol', axis=1)\n",
    "agg = ticker_data[ticker_data['symbol']=='AGG'].drop('symbol', axis=1)\n",
    "\n",
    "# Concatenate the ticker DataFrames\n",
    "ticker_data = pd.concat([spy,agg], axis=1, keys=[\"SPY\",\"AGG\"])\n",
    "\n",
    "# Display both the first and last five rows of the DataFrame\n",
    "ticker_data.head()\n",
    "ticker_data.tail()\n"
   ]
  },
  {
   "cell_type": "markdown",
   "metadata": {},
   "source": [
    "#### Step 2: Run a Monte Carlo simulation of 500 samples and 30 years for the 60/40 portfolio, and then plot the results."
   ]
  },
  {
   "cell_type": "code",
   "execution_count": 30,
   "metadata": {},
   "outputs": [
    {
     "data": {
      "text/html": [
       "<div>\n",
       "<style scoped>\n",
       "    .dataframe tbody tr th:only-of-type {\n",
       "        vertical-align: middle;\n",
       "    }\n",
       "\n",
       "    .dataframe tbody tr th {\n",
       "        vertical-align: top;\n",
       "    }\n",
       "\n",
       "    .dataframe thead tr th {\n",
       "        text-align: left;\n",
       "    }\n",
       "\n",
       "    .dataframe thead tr:last-of-type th {\n",
       "        text-align: right;\n",
       "    }\n",
       "</style>\n",
       "<table border=\"1\" class=\"dataframe\">\n",
       "  <thead>\n",
       "    <tr>\n",
       "      <th></th>\n",
       "      <th colspan=\"8\" halign=\"left\">SPY</th>\n",
       "      <th colspan=\"8\" halign=\"left\">AGG</th>\n",
       "    </tr>\n",
       "    <tr>\n",
       "      <th></th>\n",
       "      <th>open</th>\n",
       "      <th>high</th>\n",
       "      <th>low</th>\n",
       "      <th>close</th>\n",
       "      <th>volume</th>\n",
       "      <th>trade_count</th>\n",
       "      <th>vwap</th>\n",
       "      <th>daily_return</th>\n",
       "      <th>open</th>\n",
       "      <th>high</th>\n",
       "      <th>low</th>\n",
       "      <th>close</th>\n",
       "      <th>volume</th>\n",
       "      <th>trade_count</th>\n",
       "      <th>vwap</th>\n",
       "      <th>daily_return</th>\n",
       "    </tr>\n",
       "    <tr>\n",
       "      <th>timestamp</th>\n",
       "      <th></th>\n",
       "      <th></th>\n",
       "      <th></th>\n",
       "      <th></th>\n",
       "      <th></th>\n",
       "      <th></th>\n",
       "      <th></th>\n",
       "      <th></th>\n",
       "      <th></th>\n",
       "      <th></th>\n",
       "      <th></th>\n",
       "      <th></th>\n",
       "      <th></th>\n",
       "      <th></th>\n",
       "      <th></th>\n",
       "      <th></th>\n",
       "    </tr>\n",
       "  </thead>\n",
       "  <tbody>\n",
       "    <tr>\n",
       "      <th>2020-04-27 04:00:00+00:00</th>\n",
       "      <td>285.12</td>\n",
       "      <td>288.2700</td>\n",
       "      <td>284.62</td>\n",
       "      <td>287.10</td>\n",
       "      <td>78438608</td>\n",
       "      <td>430206</td>\n",
       "      <td>286.528977</td>\n",
       "      <td>NaN</td>\n",
       "      <td>117.21</td>\n",
       "      <td>117.3600</td>\n",
       "      <td>116.8200</td>\n",
       "      <td>116.82</td>\n",
       "      <td>5576322</td>\n",
       "      <td>17632</td>\n",
       "      <td>116.931177</td>\n",
       "      <td>NaN</td>\n",
       "    </tr>\n",
       "    <tr>\n",
       "      <th>2020-04-28 04:00:00+00:00</th>\n",
       "      <td>291.02</td>\n",
       "      <td>291.4000</td>\n",
       "      <td>285.40</td>\n",
       "      <td>285.69</td>\n",
       "      <td>106308551</td>\n",
       "      <td>582616</td>\n",
       "      <td>287.789471</td>\n",
       "      <td>-0.004911</td>\n",
       "      <td>117.27</td>\n",
       "      <td>117.4500</td>\n",
       "      <td>117.1200</td>\n",
       "      <td>117.28</td>\n",
       "      <td>5889809</td>\n",
       "      <td>22284</td>\n",
       "      <td>117.218136</td>\n",
       "      <td>0.003938</td>\n",
       "    </tr>\n",
       "    <tr>\n",
       "      <th>2020-04-29 04:00:00+00:00</th>\n",
       "      <td>291.54</td>\n",
       "      <td>294.8800</td>\n",
       "      <td>290.41</td>\n",
       "      <td>293.15</td>\n",
       "      <td>118756595</td>\n",
       "      <td>643390</td>\n",
       "      <td>292.698771</td>\n",
       "      <td>0.026112</td>\n",
       "      <td>117.29</td>\n",
       "      <td>117.4800</td>\n",
       "      <td>117.2000</td>\n",
       "      <td>117.43</td>\n",
       "      <td>4653336</td>\n",
       "      <td>18599</td>\n",
       "      <td>117.364472</td>\n",
       "      <td>0.001279</td>\n",
       "    </tr>\n",
       "    <tr>\n",
       "      <th>2020-04-30 04:00:00+00:00</th>\n",
       "      <td>291.71</td>\n",
       "      <td>293.3239</td>\n",
       "      <td>288.59</td>\n",
       "      <td>290.63</td>\n",
       "      <td>123003721</td>\n",
       "      <td>650783</td>\n",
       "      <td>290.584103</td>\n",
       "      <td>-0.008596</td>\n",
       "      <td>117.38</td>\n",
       "      <td>117.4900</td>\n",
       "      <td>117.0650</td>\n",
       "      <td>117.10</td>\n",
       "      <td>10487461</td>\n",
       "      <td>27412</td>\n",
       "      <td>117.213509</td>\n",
       "      <td>-0.002810</td>\n",
       "    </tr>\n",
       "    <tr>\n",
       "      <th>2020-05-01 04:00:00+00:00</th>\n",
       "      <td>285.31</td>\n",
       "      <td>290.6572</td>\n",
       "      <td>281.52</td>\n",
       "      <td>282.83</td>\n",
       "      <td>125180028</td>\n",
       "      <td>639987</td>\n",
       "      <td>284.092832</td>\n",
       "      <td>-0.026838</td>\n",
       "      <td>116.97</td>\n",
       "      <td>117.0998</td>\n",
       "      <td>116.6775</td>\n",
       "      <td>116.87</td>\n",
       "      <td>6099551</td>\n",
       "      <td>24394</td>\n",
       "      <td>116.846121</td>\n",
       "      <td>-0.001964</td>\n",
       "    </tr>\n",
       "  </tbody>\n",
       "</table>\n",
       "</div>"
      ],
      "text/plain": [
       "                              SPY                                       \\\n",
       "                             open      high     low   close     volume   \n",
       "timestamp                                                                \n",
       "2020-04-27 04:00:00+00:00  285.12  288.2700  284.62  287.10   78438608   \n",
       "2020-04-28 04:00:00+00:00  291.02  291.4000  285.40  285.69  106308551   \n",
       "2020-04-29 04:00:00+00:00  291.54  294.8800  290.41  293.15  118756595   \n",
       "2020-04-30 04:00:00+00:00  291.71  293.3239  288.59  290.63  123003721   \n",
       "2020-05-01 04:00:00+00:00  285.31  290.6572  281.52  282.83  125180028   \n",
       "\n",
       "                                                                   AGG  \\\n",
       "                          trade_count        vwap daily_return    open   \n",
       "timestamp                                                                \n",
       "2020-04-27 04:00:00+00:00      430206  286.528977          NaN  117.21   \n",
       "2020-04-28 04:00:00+00:00      582616  287.789471    -0.004911  117.27   \n",
       "2020-04-29 04:00:00+00:00      643390  292.698771     0.026112  117.29   \n",
       "2020-04-30 04:00:00+00:00      650783  290.584103    -0.008596  117.38   \n",
       "2020-05-01 04:00:00+00:00      639987  284.092832    -0.026838  116.97   \n",
       "\n",
       "                                                                             \\\n",
       "                               high       low   close    volume trade_count   \n",
       "timestamp                                                                     \n",
       "2020-04-27 04:00:00+00:00  117.3600  116.8200  116.82   5576322       17632   \n",
       "2020-04-28 04:00:00+00:00  117.4500  117.1200  117.28   5889809       22284   \n",
       "2020-04-29 04:00:00+00:00  117.4800  117.2000  117.43   4653336       18599   \n",
       "2020-04-30 04:00:00+00:00  117.4900  117.0650  117.10  10487461       27412   \n",
       "2020-05-01 04:00:00+00:00  117.0998  116.6775  116.87   6099551       24394   \n",
       "\n",
       "                                                    \n",
       "                                 vwap daily_return  \n",
       "timestamp                                           \n",
       "2020-04-27 04:00:00+00:00  116.931177          NaN  \n",
       "2020-04-28 04:00:00+00:00  117.218136     0.003938  \n",
       "2020-04-29 04:00:00+00:00  117.364472     0.001279  \n",
       "2020-04-30 04:00:00+00:00  117.213509    -0.002810  \n",
       "2020-05-01 04:00:00+00:00  116.846121    -0.001964  "
      ]
     },
     "execution_count": 30,
     "metadata": {},
     "output_type": "execute_result"
    }
   ],
   "source": [
    "# Configure the Monte Carlo simulation to forecast 30 years cumulative returns\n",
    "# The weights should be split 40% to AGG and 60% to SPY.\n",
    "# Run 500 samples.\n",
    "monte_carlo_simulation = MCSimulation(\n",
    "    portfolio_data= ticker_data,\n",
    "    weights=[.60,.40],\n",
    "    num_simulation= 500,\n",
    "    num_trading_days= 252 * 30)\n",
    "\n",
    "# Review the simulation input data\n",
    "monte_carlo_simulation.portfolio_data.head()\n"
   ]
  },
  {
   "cell_type": "code",
   "execution_count": 31,
   "metadata": {},
   "outputs": [
    {
     "name": "stdout",
     "output_type": "stream",
     "text": [
      "Running Monte Carlo simulation number 0.\n",
      "Running Monte Carlo simulation number 10.\n",
      "Running Monte Carlo simulation number 20.\n",
      "Running Monte Carlo simulation number 30.\n",
      "Running Monte Carlo simulation number 40.\n",
      "Running Monte Carlo simulation number 50.\n",
      "Running Monte Carlo simulation number 60.\n",
      "Running Monte Carlo simulation number 70.\n",
      "Running Monte Carlo simulation number 80.\n",
      "Running Monte Carlo simulation number 90.\n",
      "Running Monte Carlo simulation number 100.\n",
      "Running Monte Carlo simulation number 110.\n",
      "Running Monte Carlo simulation number 120.\n",
      "Running Monte Carlo simulation number 130.\n",
      "Running Monte Carlo simulation number 140.\n",
      "Running Monte Carlo simulation number 150.\n",
      "Running Monte Carlo simulation number 160.\n",
      "Running Monte Carlo simulation number 170.\n",
      "Running Monte Carlo simulation number 180.\n",
      "Running Monte Carlo simulation number 190.\n",
      "Running Monte Carlo simulation number 200.\n",
      "Running Monte Carlo simulation number 210.\n",
      "Running Monte Carlo simulation number 220.\n",
      "Running Monte Carlo simulation number 230.\n",
      "Running Monte Carlo simulation number 240.\n",
      "Running Monte Carlo simulation number 250.\n",
      "Running Monte Carlo simulation number 260.\n",
      "Running Monte Carlo simulation number 270.\n",
      "Running Monte Carlo simulation number 280.\n",
      "Running Monte Carlo simulation number 290.\n",
      "Running Monte Carlo simulation number 300.\n",
      "Running Monte Carlo simulation number 310.\n",
      "Running Monte Carlo simulation number 320.\n",
      "Running Monte Carlo simulation number 330.\n",
      "Running Monte Carlo simulation number 340.\n",
      "Running Monte Carlo simulation number 350.\n",
      "Running Monte Carlo simulation number 360.\n",
      "Running Monte Carlo simulation number 370.\n",
      "Running Monte Carlo simulation number 380.\n",
      "Running Monte Carlo simulation number 390.\n",
      "Running Monte Carlo simulation number 400.\n",
      "Running Monte Carlo simulation number 410.\n",
      "Running Monte Carlo simulation number 420.\n",
      "Running Monte Carlo simulation number 430.\n",
      "Running Monte Carlo simulation number 440.\n",
      "Running Monte Carlo simulation number 450.\n",
      "Running Monte Carlo simulation number 460.\n",
      "Running Monte Carlo simulation number 470.\n",
      "Running Monte Carlo simulation number 480.\n",
      "Running Monte Carlo simulation number 490.\n"
     ]
    },
    {
     "data": {
      "text/html": [
       "<div>\n",
       "<style scoped>\n",
       "    .dataframe tbody tr th:only-of-type {\n",
       "        vertical-align: middle;\n",
       "    }\n",
       "\n",
       "    .dataframe tbody tr th {\n",
       "        vertical-align: top;\n",
       "    }\n",
       "\n",
       "    .dataframe thead th {\n",
       "        text-align: right;\n",
       "    }\n",
       "</style>\n",
       "<table border=\"1\" class=\"dataframe\">\n",
       "  <thead>\n",
       "    <tr style=\"text-align: right;\">\n",
       "      <th></th>\n",
       "      <th>0</th>\n",
       "      <th>1</th>\n",
       "      <th>2</th>\n",
       "      <th>3</th>\n",
       "      <th>4</th>\n",
       "      <th>5</th>\n",
       "      <th>6</th>\n",
       "      <th>7</th>\n",
       "      <th>8</th>\n",
       "      <th>9</th>\n",
       "      <th>...</th>\n",
       "      <th>490</th>\n",
       "      <th>491</th>\n",
       "      <th>492</th>\n",
       "      <th>493</th>\n",
       "      <th>494</th>\n",
       "      <th>495</th>\n",
       "      <th>496</th>\n",
       "      <th>497</th>\n",
       "      <th>498</th>\n",
       "      <th>499</th>\n",
       "    </tr>\n",
       "  </thead>\n",
       "  <tbody>\n",
       "    <tr>\n",
       "      <th>0</th>\n",
       "      <td>1.000000</td>\n",
       "      <td>1.000000</td>\n",
       "      <td>1.000000</td>\n",
       "      <td>1.000000</td>\n",
       "      <td>1.000000</td>\n",
       "      <td>1.000000</td>\n",
       "      <td>1.000000</td>\n",
       "      <td>1.000000</td>\n",
       "      <td>1.000000</td>\n",
       "      <td>1.000000</td>\n",
       "      <td>...</td>\n",
       "      <td>1.000000</td>\n",
       "      <td>1.000000</td>\n",
       "      <td>1.000000</td>\n",
       "      <td>1.000000</td>\n",
       "      <td>1.000000</td>\n",
       "      <td>1.000000</td>\n",
       "      <td>1.000000</td>\n",
       "      <td>1.000000</td>\n",
       "      <td>1.000000</td>\n",
       "      <td>1.000000</td>\n",
       "    </tr>\n",
       "    <tr>\n",
       "      <th>1</th>\n",
       "      <td>0.986252</td>\n",
       "      <td>1.009592</td>\n",
       "      <td>0.999128</td>\n",
       "      <td>0.998535</td>\n",
       "      <td>0.987260</td>\n",
       "      <td>1.004582</td>\n",
       "      <td>0.996617</td>\n",
       "      <td>0.996845</td>\n",
       "      <td>0.999342</td>\n",
       "      <td>0.999721</td>\n",
       "      <td>...</td>\n",
       "      <td>1.007258</td>\n",
       "      <td>0.995982</td>\n",
       "      <td>1.001832</td>\n",
       "      <td>0.991320</td>\n",
       "      <td>1.004076</td>\n",
       "      <td>1.004041</td>\n",
       "      <td>1.007108</td>\n",
       "      <td>0.991705</td>\n",
       "      <td>1.004374</td>\n",
       "      <td>1.003193</td>\n",
       "    </tr>\n",
       "    <tr>\n",
       "      <th>2</th>\n",
       "      <td>0.994351</td>\n",
       "      <td>1.017254</td>\n",
       "      <td>0.994540</td>\n",
       "      <td>0.988929</td>\n",
       "      <td>0.982878</td>\n",
       "      <td>1.005091</td>\n",
       "      <td>0.988449</td>\n",
       "      <td>0.985369</td>\n",
       "      <td>0.986605</td>\n",
       "      <td>1.001950</td>\n",
       "      <td>...</td>\n",
       "      <td>1.013115</td>\n",
       "      <td>0.996959</td>\n",
       "      <td>0.981087</td>\n",
       "      <td>0.994903</td>\n",
       "      <td>1.001573</td>\n",
       "      <td>1.005178</td>\n",
       "      <td>1.001664</td>\n",
       "      <td>0.986680</td>\n",
       "      <td>1.013845</td>\n",
       "      <td>0.992839</td>\n",
       "    </tr>\n",
       "    <tr>\n",
       "      <th>3</th>\n",
       "      <td>0.993498</td>\n",
       "      <td>1.012182</td>\n",
       "      <td>0.991741</td>\n",
       "      <td>0.975374</td>\n",
       "      <td>0.985796</td>\n",
       "      <td>1.005992</td>\n",
       "      <td>0.989766</td>\n",
       "      <td>0.983267</td>\n",
       "      <td>0.987381</td>\n",
       "      <td>1.005885</td>\n",
       "      <td>...</td>\n",
       "      <td>1.018810</td>\n",
       "      <td>0.997321</td>\n",
       "      <td>0.975911</td>\n",
       "      <td>0.992191</td>\n",
       "      <td>1.012547</td>\n",
       "      <td>1.012508</td>\n",
       "      <td>0.998780</td>\n",
       "      <td>0.971413</td>\n",
       "      <td>1.022997</td>\n",
       "      <td>0.994976</td>\n",
       "    </tr>\n",
       "    <tr>\n",
       "      <th>4</th>\n",
       "      <td>0.995276</td>\n",
       "      <td>1.006753</td>\n",
       "      <td>0.989763</td>\n",
       "      <td>0.980925</td>\n",
       "      <td>0.986784</td>\n",
       "      <td>1.003014</td>\n",
       "      <td>0.995155</td>\n",
       "      <td>0.987368</td>\n",
       "      <td>0.996336</td>\n",
       "      <td>1.005076</td>\n",
       "      <td>...</td>\n",
       "      <td>1.020943</td>\n",
       "      <td>0.993939</td>\n",
       "      <td>0.979383</td>\n",
       "      <td>0.999681</td>\n",
       "      <td>1.005288</td>\n",
       "      <td>1.020837</td>\n",
       "      <td>0.994769</td>\n",
       "      <td>0.967561</td>\n",
       "      <td>1.021847</td>\n",
       "      <td>0.987041</td>\n",
       "    </tr>\n",
       "    <tr>\n",
       "      <th>...</th>\n",
       "      <td>...</td>\n",
       "      <td>...</td>\n",
       "      <td>...</td>\n",
       "      <td>...</td>\n",
       "      <td>...</td>\n",
       "      <td>...</td>\n",
       "      <td>...</td>\n",
       "      <td>...</td>\n",
       "      <td>...</td>\n",
       "      <td>...</td>\n",
       "      <td>...</td>\n",
       "      <td>...</td>\n",
       "      <td>...</td>\n",
       "      <td>...</td>\n",
       "      <td>...</td>\n",
       "      <td>...</td>\n",
       "      <td>...</td>\n",
       "      <td>...</td>\n",
       "      <td>...</td>\n",
       "      <td>...</td>\n",
       "      <td>...</td>\n",
       "    </tr>\n",
       "    <tr>\n",
       "      <th>7556</th>\n",
       "      <td>3.349737</td>\n",
       "      <td>9.270779</td>\n",
       "      <td>7.068362</td>\n",
       "      <td>1.330412</td>\n",
       "      <td>0.922110</td>\n",
       "      <td>6.673071</td>\n",
       "      <td>5.406814</td>\n",
       "      <td>9.559374</td>\n",
       "      <td>6.980053</td>\n",
       "      <td>3.813898</td>\n",
       "      <td>...</td>\n",
       "      <td>4.238649</td>\n",
       "      <td>9.391009</td>\n",
       "      <td>4.913697</td>\n",
       "      <td>4.686889</td>\n",
       "      <td>5.456979</td>\n",
       "      <td>2.816863</td>\n",
       "      <td>17.225998</td>\n",
       "      <td>2.052095</td>\n",
       "      <td>5.236099</td>\n",
       "      <td>1.765810</td>\n",
       "    </tr>\n",
       "    <tr>\n",
       "      <th>7557</th>\n",
       "      <td>3.356454</td>\n",
       "      <td>9.288742</td>\n",
       "      <td>6.982859</td>\n",
       "      <td>1.327939</td>\n",
       "      <td>0.927333</td>\n",
       "      <td>6.733553</td>\n",
       "      <td>5.440180</td>\n",
       "      <td>9.704420</td>\n",
       "      <td>7.066679</td>\n",
       "      <td>3.875055</td>\n",
       "      <td>...</td>\n",
       "      <td>4.250593</td>\n",
       "      <td>9.398199</td>\n",
       "      <td>4.886584</td>\n",
       "      <td>4.648852</td>\n",
       "      <td>5.436547</td>\n",
       "      <td>2.851593</td>\n",
       "      <td>17.056989</td>\n",
       "      <td>2.030732</td>\n",
       "      <td>5.216503</td>\n",
       "      <td>1.746396</td>\n",
       "    </tr>\n",
       "    <tr>\n",
       "      <th>7558</th>\n",
       "      <td>3.308159</td>\n",
       "      <td>9.305976</td>\n",
       "      <td>7.104436</td>\n",
       "      <td>1.317927</td>\n",
       "      <td>0.922359</td>\n",
       "      <td>6.795004</td>\n",
       "      <td>5.460919</td>\n",
       "      <td>9.759862</td>\n",
       "      <td>7.083439</td>\n",
       "      <td>3.881961</td>\n",
       "      <td>...</td>\n",
       "      <td>4.269684</td>\n",
       "      <td>9.507684</td>\n",
       "      <td>4.852118</td>\n",
       "      <td>4.640987</td>\n",
       "      <td>5.449811</td>\n",
       "      <td>2.862997</td>\n",
       "      <td>17.003922</td>\n",
       "      <td>2.008114</td>\n",
       "      <td>5.238242</td>\n",
       "      <td>1.741391</td>\n",
       "    </tr>\n",
       "    <tr>\n",
       "      <th>7559</th>\n",
       "      <td>3.304185</td>\n",
       "      <td>9.256080</td>\n",
       "      <td>7.222858</td>\n",
       "      <td>1.319607</td>\n",
       "      <td>0.919857</td>\n",
       "      <td>6.785514</td>\n",
       "      <td>5.498857</td>\n",
       "      <td>9.673193</td>\n",
       "      <td>7.082537</td>\n",
       "      <td>3.869884</td>\n",
       "      <td>...</td>\n",
       "      <td>4.275583</td>\n",
       "      <td>9.460830</td>\n",
       "      <td>4.800851</td>\n",
       "      <td>4.665213</td>\n",
       "      <td>5.466048</td>\n",
       "      <td>2.880942</td>\n",
       "      <td>16.929264</td>\n",
       "      <td>1.988500</td>\n",
       "      <td>5.231768</td>\n",
       "      <td>1.729359</td>\n",
       "    </tr>\n",
       "    <tr>\n",
       "      <th>7560</th>\n",
       "      <td>3.285815</td>\n",
       "      <td>9.150097</td>\n",
       "      <td>7.198820</td>\n",
       "      <td>1.323172</td>\n",
       "      <td>0.918655</td>\n",
       "      <td>6.826837</td>\n",
       "      <td>5.482673</td>\n",
       "      <td>9.639389</td>\n",
       "      <td>7.161989</td>\n",
       "      <td>3.810893</td>\n",
       "      <td>...</td>\n",
       "      <td>4.273321</td>\n",
       "      <td>9.541582</td>\n",
       "      <td>4.792767</td>\n",
       "      <td>4.738022</td>\n",
       "      <td>5.475139</td>\n",
       "      <td>2.860048</td>\n",
       "      <td>16.870704</td>\n",
       "      <td>2.005142</td>\n",
       "      <td>5.294634</td>\n",
       "      <td>1.716426</td>\n",
       "    </tr>\n",
       "  </tbody>\n",
       "</table>\n",
       "<p>7561 rows × 500 columns</p>\n",
       "</div>"
      ],
      "text/plain": [
       "           0         1         2         3         4         5         6    \\\n",
       "0     1.000000  1.000000  1.000000  1.000000  1.000000  1.000000  1.000000   \n",
       "1     0.986252  1.009592  0.999128  0.998535  0.987260  1.004582  0.996617   \n",
       "2     0.994351  1.017254  0.994540  0.988929  0.982878  1.005091  0.988449   \n",
       "3     0.993498  1.012182  0.991741  0.975374  0.985796  1.005992  0.989766   \n",
       "4     0.995276  1.006753  0.989763  0.980925  0.986784  1.003014  0.995155   \n",
       "...        ...       ...       ...       ...       ...       ...       ...   \n",
       "7556  3.349737  9.270779  7.068362  1.330412  0.922110  6.673071  5.406814   \n",
       "7557  3.356454  9.288742  6.982859  1.327939  0.927333  6.733553  5.440180   \n",
       "7558  3.308159  9.305976  7.104436  1.317927  0.922359  6.795004  5.460919   \n",
       "7559  3.304185  9.256080  7.222858  1.319607  0.919857  6.785514  5.498857   \n",
       "7560  3.285815  9.150097  7.198820  1.323172  0.918655  6.826837  5.482673   \n",
       "\n",
       "           7         8         9    ...       490       491       492  \\\n",
       "0     1.000000  1.000000  1.000000  ...  1.000000  1.000000  1.000000   \n",
       "1     0.996845  0.999342  0.999721  ...  1.007258  0.995982  1.001832   \n",
       "2     0.985369  0.986605  1.001950  ...  1.013115  0.996959  0.981087   \n",
       "3     0.983267  0.987381  1.005885  ...  1.018810  0.997321  0.975911   \n",
       "4     0.987368  0.996336  1.005076  ...  1.020943  0.993939  0.979383   \n",
       "...        ...       ...       ...  ...       ...       ...       ...   \n",
       "7556  9.559374  6.980053  3.813898  ...  4.238649  9.391009  4.913697   \n",
       "7557  9.704420  7.066679  3.875055  ...  4.250593  9.398199  4.886584   \n",
       "7558  9.759862  7.083439  3.881961  ...  4.269684  9.507684  4.852118   \n",
       "7559  9.673193  7.082537  3.869884  ...  4.275583  9.460830  4.800851   \n",
       "7560  9.639389  7.161989  3.810893  ...  4.273321  9.541582  4.792767   \n",
       "\n",
       "           493       494       495        496       497       498       499  \n",
       "0     1.000000  1.000000  1.000000   1.000000  1.000000  1.000000  1.000000  \n",
       "1     0.991320  1.004076  1.004041   1.007108  0.991705  1.004374  1.003193  \n",
       "2     0.994903  1.001573  1.005178   1.001664  0.986680  1.013845  0.992839  \n",
       "3     0.992191  1.012547  1.012508   0.998780  0.971413  1.022997  0.994976  \n",
       "4     0.999681  1.005288  1.020837   0.994769  0.967561  1.021847  0.987041  \n",
       "...        ...       ...       ...        ...       ...       ...       ...  \n",
       "7556  4.686889  5.456979  2.816863  17.225998  2.052095  5.236099  1.765810  \n",
       "7557  4.648852  5.436547  2.851593  17.056989  2.030732  5.216503  1.746396  \n",
       "7558  4.640987  5.449811  2.862997  17.003922  2.008114  5.238242  1.741391  \n",
       "7559  4.665213  5.466048  2.880942  16.929264  1.988500  5.231768  1.729359  \n",
       "7560  4.738022  5.475139  2.860048  16.870704  2.005142  5.294634  1.716426  \n",
       "\n",
       "[7561 rows x 500 columns]"
      ]
     },
     "execution_count": 31,
     "metadata": {},
     "output_type": "execute_result"
    }
   ],
   "source": [
    "# Run the Monte Carlo simulation to forecast 30 years cumulative returns\n",
    "monte_carlo_simulation.calc_cumulative_return()"
   ]
  },
  {
   "cell_type": "code",
   "execution_count": 32,
   "metadata": {},
   "outputs": [
    {
     "data": {
      "image/png": "[encoded data removed]",
      "text/plain": [
       "<Figure size 640x480 with 1 Axes>"
      ]
     },
     "metadata": {},
     "output_type": "display_data"
    }
   ],
   "source": [
    "# Visualize the 30-year Monte Carlo simulation by creating an\n",
    "# overlay line plot\n",
    "mc_plot_line=monte_carlo_simulation.plot_simulation()"
   ]
  },
  {
   "cell_type": "markdown",
   "metadata": {},
   "source": [
    "#### Step 3: Plot the probability distribution of the Monte Carlo simulation."
   ]
  },
  {
   "cell_type": "code",
   "execution_count": 33,
   "metadata": {},
   "outputs": [
    {
     "data": {
      "image/png": "[encoded data removed]",
      "text/plain": [
       "<Figure size 640x480 with 1 Axes>"
      ]
     },
     "metadata": {},
     "output_type": "display_data"
    }
   ],
   "source": [
    "# Visualize the probability distribution of the 30-year Monte Carlo simulation \n",
    "# by plotting a histogram\n",
    "# YOUR CODE HERE\n",
    "mc_distribution_plot = monte_carlo_simulation.plot_distribution()"
   ]
  },
  {
   "cell_type": "markdown",
   "metadata": {},
   "source": [
    "#### Step 4: Generate the summary statistics for the Monte Carlo simulation."
   ]
  },
  {
   "cell_type": "code",
   "execution_count": 34,
   "metadata": {
    "scrolled": true
   },
   "outputs": [
    {
     "data": {
      "text/plain": [
       "count           500.000000\n",
       "mean              6.741626\n",
       "std               4.994466\n",
       "min               0.898304\n",
       "25%               3.579447\n",
       "50%               5.361390\n",
       "75%               8.272885\n",
       "max              39.664337\n",
       "95% CI Lower      1.490824\n",
       "95% CI Upper     20.837658\n",
       "Name: 7560, dtype: float64"
      ]
     },
     "execution_count": 34,
     "metadata": {},
     "output_type": "execute_result"
    }
   ],
   "source": [
    "# Generate summary statistics from the 30-year Monte Carlo simulation results\n",
    "# Save the results as a variable\n",
    "mc_stats_30_years =monte_carlo_simulation.summarize_cumulative_return()\n",
    "\n",
    "\n",
    "# Review the 30-year Monte Carlo summary statistics\n",
    "mc_stats_30_years"
   ]
  },
  {
   "cell_type": "markdown",
   "metadata": {},
   "source": [
    "### Analyze the Retirement Portfolio Forecasts\n",
    "\n",
    "Using the current value of only the stock and bond portion of the member's portfolio and the summary statistics that you generated from the Monte Carlo simulation, answer the following question in your Jupyter notebook:\n",
    "\n",
    "-  What are the lower and upper bounds for the expected value of the portfolio with a 95% confidence interval?\n"
   ]
  },
  {
   "cell_type": "code",
   "execution_count": 35,
   "metadata": {},
   "outputs": [
    {
     "name": "stdout",
     "output_type": "stream",
     "text": [
      "The current balance of the stock and bond portion of the members portfolio is $ 37023.30\n"
     ]
    }
   ],
   "source": [
    "# Print the current balance of the stock and bond portion of the members portfolio\n",
    "print(f\"The current balance of the stock and bond portion of the members portfolio is ${total_stocks_bonds: .2f}\")\n"
   ]
  },
  {
   "cell_type": "code",
   "execution_count": 36,
   "metadata": {},
   "outputs": [
    {
     "name": "stdout",
     "output_type": "stream",
     "text": [
      " The lower `95%` confidence intervals to calculate the range of the possible outcomes for the current stock/bond portfolio is $55,195.21\n",
      " The upper `95%` confidence intervals to calculate the range of the possible outcomes for the current stock/bond portfolio is $771,478.88\n",
      "There is a 95% chance that investing the Stock/Bond portion of the portfolio (current value $37,023.30) in a traditional 60/40 weight distribution over the next 30 years will result in a value within the range of $55,195.21 and $771,478.88.\n"
     ]
    }
   ],
   "source": [
    "# Use the lower and upper `95%` confidence intervals to calculate the range of the possible outcomes for the current stock/bond portfolio\n",
    "ci_lower_thirty_cumulative_return = mc_stats_30_years[8] * total_stocks_bonds\n",
    "ci_upper_thirty_cumulative_return = mc_stats_30_years[9] * total_stocks_bonds\n",
    "\n",
    "# Print the result of your calculations\n",
    "print(f\" The lower `95%` confidence intervals to calculate the range of the possible outcomes for the current stock/bond portfolio is ${ci_lower_thirty_cumulative_return :,.2f}\")\n",
    "\n",
    "print(f\" The upper `95%` confidence intervals to calculate the range of the possible outcomes for the current stock/bond portfolio is ${ci_upper_thirty_cumulative_return :,.2f}\")\n",
    "\n",
    "\n",
    "print(f\"There is a 95% chance that investing the Stock/Bond portion of the portfolio (current value ${total_stocks_bonds:,.2f}) in\"\n",
    "      f\" a traditional 60/40 weight distribution over the next 30 years will result in a value within the range of\"\n",
    "      f\" ${ci_lower_thirty_cumulative_return:,.2f} and ${ci_upper_thirty_cumulative_return:,.2f}.\")\n"
   ]
  },
  {
   "cell_type": "markdown",
   "metadata": {},
   "source": [
    "### Forecast Cumulative Returns in 10 Years\n",
    "\n",
    "The CTO of the credit union is impressed with your work on these planning tools but wonders if 30 years is a long time to wait until retirement. So, your next task is to adjust the retirement portfolio and run a new Monte Carlo simulation to find out if the changes will allow members to retire earlier.\n",
    "\n",
    "For this new Monte Carlo simulation, do the following: \n",
    "\n",
    "- Forecast the cumulative returns for 10 years from now. Because of the shortened investment horizon (30 years to 10 years), the portfolio needs to invest more heavily in the riskier asset&mdash;that is, stock&mdash;to help accumulate wealth for retirement. \n",
    "\n",
    "- Adjust the weights of the retirement portfolio so that the composition for the Monte Carlo simulation consists of 20% bonds and 80% stocks. \n",
    "\n",
    "- Run the simulation over 500 samples, and use the same data that the API call to Alpaca generated.\n",
    "\n",
    "- Based on the new Monte Carlo simulation, answer the following questions in your Jupyter notebook:\n",
    "\n",
    "    - Using the current value of only the stock and bond portion of the member's portfolio and the summary statistics that you generated from the new Monte Carlo simulation, what are the lower and upper bounds for the expected value of the portfolio (with the new weights) with a 95% confidence interval?\n",
    "\n",
    "    - Will weighting the portfolio more heavily toward stocks allow the credit union members to retire after only 10 years?\n"
   ]
  },
  {
   "cell_type": "code",
   "execution_count": 37,
   "metadata": {},
   "outputs": [
    {
     "data": {
      "text/html": [
       "<div>\n",
       "<style scoped>\n",
       "    .dataframe tbody tr th:only-of-type {\n",
       "        vertical-align: middle;\n",
       "    }\n",
       "\n",
       "    .dataframe tbody tr th {\n",
       "        vertical-align: top;\n",
       "    }\n",
       "\n",
       "    .dataframe thead tr th {\n",
       "        text-align: left;\n",
       "    }\n",
       "\n",
       "    .dataframe thead tr:last-of-type th {\n",
       "        text-align: right;\n",
       "    }\n",
       "</style>\n",
       "<table border=\"1\" class=\"dataframe\">\n",
       "  <thead>\n",
       "    <tr>\n",
       "      <th></th>\n",
       "      <th colspan=\"8\" halign=\"left\">SPY</th>\n",
       "      <th colspan=\"8\" halign=\"left\">AGG</th>\n",
       "    </tr>\n",
       "    <tr>\n",
       "      <th></th>\n",
       "      <th>open</th>\n",
       "      <th>high</th>\n",
       "      <th>low</th>\n",
       "      <th>close</th>\n",
       "      <th>volume</th>\n",
       "      <th>trade_count</th>\n",
       "      <th>vwap</th>\n",
       "      <th>daily_return</th>\n",
       "      <th>open</th>\n",
       "      <th>high</th>\n",
       "      <th>low</th>\n",
       "      <th>close</th>\n",
       "      <th>volume</th>\n",
       "      <th>trade_count</th>\n",
       "      <th>vwap</th>\n",
       "      <th>daily_return</th>\n",
       "    </tr>\n",
       "    <tr>\n",
       "      <th>timestamp</th>\n",
       "      <th></th>\n",
       "      <th></th>\n",
       "      <th></th>\n",
       "      <th></th>\n",
       "      <th></th>\n",
       "      <th></th>\n",
       "      <th></th>\n",
       "      <th></th>\n",
       "      <th></th>\n",
       "      <th></th>\n",
       "      <th></th>\n",
       "      <th></th>\n",
       "      <th></th>\n",
       "      <th></th>\n",
       "      <th></th>\n",
       "      <th></th>\n",
       "    </tr>\n",
       "  </thead>\n",
       "  <tbody>\n",
       "    <tr>\n",
       "      <th>2020-04-27 04:00:00+00:00</th>\n",
       "      <td>285.12</td>\n",
       "      <td>288.2700</td>\n",
       "      <td>284.62</td>\n",
       "      <td>287.10</td>\n",
       "      <td>78438608</td>\n",
       "      <td>430206</td>\n",
       "      <td>286.528977</td>\n",
       "      <td>NaN</td>\n",
       "      <td>117.21</td>\n",
       "      <td>117.3600</td>\n",
       "      <td>116.8200</td>\n",
       "      <td>116.82</td>\n",
       "      <td>5576322</td>\n",
       "      <td>17632</td>\n",
       "      <td>116.931177</td>\n",
       "      <td>NaN</td>\n",
       "    </tr>\n",
       "    <tr>\n",
       "      <th>2020-04-28 04:00:00+00:00</th>\n",
       "      <td>291.02</td>\n",
       "      <td>291.4000</td>\n",
       "      <td>285.40</td>\n",
       "      <td>285.69</td>\n",
       "      <td>106308551</td>\n",
       "      <td>582616</td>\n",
       "      <td>287.789471</td>\n",
       "      <td>-0.004911</td>\n",
       "      <td>117.27</td>\n",
       "      <td>117.4500</td>\n",
       "      <td>117.1200</td>\n",
       "      <td>117.28</td>\n",
       "      <td>5889809</td>\n",
       "      <td>22284</td>\n",
       "      <td>117.218136</td>\n",
       "      <td>0.003938</td>\n",
       "    </tr>\n",
       "    <tr>\n",
       "      <th>2020-04-29 04:00:00+00:00</th>\n",
       "      <td>291.54</td>\n",
       "      <td>294.8800</td>\n",
       "      <td>290.41</td>\n",
       "      <td>293.15</td>\n",
       "      <td>118756595</td>\n",
       "      <td>643390</td>\n",
       "      <td>292.698771</td>\n",
       "      <td>0.026112</td>\n",
       "      <td>117.29</td>\n",
       "      <td>117.4800</td>\n",
       "      <td>117.2000</td>\n",
       "      <td>117.43</td>\n",
       "      <td>4653336</td>\n",
       "      <td>18599</td>\n",
       "      <td>117.364472</td>\n",
       "      <td>0.001279</td>\n",
       "    </tr>\n",
       "    <tr>\n",
       "      <th>2020-04-30 04:00:00+00:00</th>\n",
       "      <td>291.71</td>\n",
       "      <td>293.3239</td>\n",
       "      <td>288.59</td>\n",
       "      <td>290.63</td>\n",
       "      <td>123003721</td>\n",
       "      <td>650783</td>\n",
       "      <td>290.584103</td>\n",
       "      <td>-0.008596</td>\n",
       "      <td>117.38</td>\n",
       "      <td>117.4900</td>\n",
       "      <td>117.0650</td>\n",
       "      <td>117.10</td>\n",
       "      <td>10487461</td>\n",
       "      <td>27412</td>\n",
       "      <td>117.213509</td>\n",
       "      <td>-0.002810</td>\n",
       "    </tr>\n",
       "    <tr>\n",
       "      <th>2020-05-01 04:00:00+00:00</th>\n",
       "      <td>285.31</td>\n",
       "      <td>290.6572</td>\n",
       "      <td>281.52</td>\n",
       "      <td>282.83</td>\n",
       "      <td>125180028</td>\n",
       "      <td>639987</td>\n",
       "      <td>284.092832</td>\n",
       "      <td>-0.026838</td>\n",
       "      <td>116.97</td>\n",
       "      <td>117.0998</td>\n",
       "      <td>116.6775</td>\n",
       "      <td>116.87</td>\n",
       "      <td>6099551</td>\n",
       "      <td>24394</td>\n",
       "      <td>116.846121</td>\n",
       "      <td>-0.001964</td>\n",
       "    </tr>\n",
       "  </tbody>\n",
       "</table>\n",
       "</div>"
      ],
      "text/plain": [
       "                              SPY                                       \\\n",
       "                             open      high     low   close     volume   \n",
       "timestamp                                                                \n",
       "2020-04-27 04:00:00+00:00  285.12  288.2700  284.62  287.10   78438608   \n",
       "2020-04-28 04:00:00+00:00  291.02  291.4000  285.40  285.69  106308551   \n",
       "2020-04-29 04:00:00+00:00  291.54  294.8800  290.41  293.15  118756595   \n",
       "2020-04-30 04:00:00+00:00  291.71  293.3239  288.59  290.63  123003721   \n",
       "2020-05-01 04:00:00+00:00  285.31  290.6572  281.52  282.83  125180028   \n",
       "\n",
       "                                                                   AGG  \\\n",
       "                          trade_count        vwap daily_return    open   \n",
       "timestamp                                                                \n",
       "2020-04-27 04:00:00+00:00      430206  286.528977          NaN  117.21   \n",
       "2020-04-28 04:00:00+00:00      582616  287.789471    -0.004911  117.27   \n",
       "2020-04-29 04:00:00+00:00      643390  292.698771     0.026112  117.29   \n",
       "2020-04-30 04:00:00+00:00      650783  290.584103    -0.008596  117.38   \n",
       "2020-05-01 04:00:00+00:00      639987  284.092832    -0.026838  116.97   \n",
       "\n",
       "                                                                             \\\n",
       "                               high       low   close    volume trade_count   \n",
       "timestamp                                                                     \n",
       "2020-04-27 04:00:00+00:00  117.3600  116.8200  116.82   5576322       17632   \n",
       "2020-04-28 04:00:00+00:00  117.4500  117.1200  117.28   5889809       22284   \n",
       "2020-04-29 04:00:00+00:00  117.4800  117.2000  117.43   4653336       18599   \n",
       "2020-04-30 04:00:00+00:00  117.4900  117.0650  117.10  10487461       27412   \n",
       "2020-05-01 04:00:00+00:00  117.0998  116.6775  116.87   6099551       24394   \n",
       "\n",
       "                                                    \n",
       "                                 vwap daily_return  \n",
       "timestamp                                           \n",
       "2020-04-27 04:00:00+00:00  116.931177          NaN  \n",
       "2020-04-28 04:00:00+00:00  117.218136     0.003938  \n",
       "2020-04-29 04:00:00+00:00  117.364472     0.001279  \n",
       "2020-04-30 04:00:00+00:00  117.213509    -0.002810  \n",
       "2020-05-01 04:00:00+00:00  116.846121    -0.001964  "
      ]
     },
     "execution_count": 37,
     "metadata": {},
     "output_type": "execute_result"
    }
   ],
   "source": [
    "# Configure a Monte Carlo simulation to forecast 10 years cumulative returns\n",
    "# The weights should be split 20% to AGG and 80% to SPY.\n",
    "# Run 500 samples.\n",
    "mc_2080_weight = MCSimulation(\n",
    "    portfolio_data = ticker_data,\n",
    "    weights = [.80,.20],\n",
    "    num_simulation = 500,\n",
    "    num_trading_days = 252*10\n",
    ")\n",
    "\n",
    "# Review the simulation input data\n",
    "mc_2080_weight.portfolio_data.head()\n"
   ]
  },
  {
   "cell_type": "code",
   "execution_count": 38,
   "metadata": {},
   "outputs": [
    {
     "name": "stdout",
     "output_type": "stream",
     "text": [
      "Running Monte Carlo simulation number 0.\n",
      "Running Monte Carlo simulation number 10.\n",
      "Running Monte Carlo simulation number 20.\n",
      "Running Monte Carlo simulation number 30.\n",
      "Running Monte Carlo simulation number 40.\n",
      "Running Monte Carlo simulation number 50.\n",
      "Running Monte Carlo simulation number 60.\n",
      "Running Monte Carlo simulation number 70.\n",
      "Running Monte Carlo simulation number 80.\n",
      "Running Monte Carlo simulation number 90.\n",
      "Running Monte Carlo simulation number 100.\n",
      "Running Monte Carlo simulation number 110.\n",
      "Running Monte Carlo simulation number 120.\n",
      "Running Monte Carlo simulation number 130.\n",
      "Running Monte Carlo simulation number 140.\n",
      "Running Monte Carlo simulation number 150.\n",
      "Running Monte Carlo simulation number 160.\n",
      "Running Monte Carlo simulation number 170.\n",
      "Running Monte Carlo simulation number 180.\n",
      "Running Monte Carlo simulation number 190.\n",
      "Running Monte Carlo simulation number 200.\n",
      "Running Monte Carlo simulation number 210.\n",
      "Running Monte Carlo simulation number 220.\n",
      "Running Monte Carlo simulation number 230.\n",
      "Running Monte Carlo simulation number 240.\n",
      "Running Monte Carlo simulation number 250.\n",
      "Running Monte Carlo simulation number 260.\n",
      "Running Monte Carlo simulation number 270.\n",
      "Running Monte Carlo simulation number 280.\n",
      "Running Monte Carlo simulation number 290.\n",
      "Running Monte Carlo simulation number 300.\n",
      "Running Monte Carlo simulation number 310.\n",
      "Running Monte Carlo simulation number 320.\n",
      "Running Monte Carlo simulation number 330.\n",
      "Running Monte Carlo simulation number 340.\n",
      "Running Monte Carlo simulation number 350.\n",
      "Running Monte Carlo simulation number 360.\n",
      "Running Monte Carlo simulation number 370.\n",
      "Running Monte Carlo simulation number 380.\n",
      "Running Monte Carlo simulation number 390.\n",
      "Running Monte Carlo simulation number 400.\n",
      "Running Monte Carlo simulation number 410.\n",
      "Running Monte Carlo simulation number 420.\n",
      "Running Monte Carlo simulation number 430.\n",
      "Running Monte Carlo simulation number 440.\n",
      "Running Monte Carlo simulation number 450.\n",
      "Running Monte Carlo simulation number 460.\n",
      "Running Monte Carlo simulation number 470.\n",
      "Running Monte Carlo simulation number 480.\n",
      "Running Monte Carlo simulation number 490.\n"
     ]
    },
    {
     "data": {
      "text/html": [
       "<div>\n",
       "<style scoped>\n",
       "    .dataframe tbody tr th:only-of-type {\n",
       "        vertical-align: middle;\n",
       "    }\n",
       "\n",
       "    .dataframe tbody tr th {\n",
       "        vertical-align: top;\n",
       "    }\n",
       "\n",
       "    .dataframe thead th {\n",
       "        text-align: right;\n",
       "    }\n",
       "</style>\n",
       "<table border=\"1\" class=\"dataframe\">\n",
       "  <thead>\n",
       "    <tr style=\"text-align: right;\">\n",
       "      <th></th>\n",
       "      <th>0</th>\n",
       "      <th>1</th>\n",
       "      <th>2</th>\n",
       "      <th>3</th>\n",
       "      <th>4</th>\n",
       "      <th>5</th>\n",
       "      <th>6</th>\n",
       "      <th>7</th>\n",
       "      <th>8</th>\n",
       "      <th>9</th>\n",
       "      <th>...</th>\n",
       "      <th>490</th>\n",
       "      <th>491</th>\n",
       "      <th>492</th>\n",
       "      <th>493</th>\n",
       "      <th>494</th>\n",
       "      <th>495</th>\n",
       "      <th>496</th>\n",
       "      <th>497</th>\n",
       "      <th>498</th>\n",
       "      <th>499</th>\n",
       "    </tr>\n",
       "  </thead>\n",
       "  <tbody>\n",
       "    <tr>\n",
       "      <th>0</th>\n",
       "      <td>1.000000</td>\n",
       "      <td>1.000000</td>\n",
       "      <td>1.000000</td>\n",
       "      <td>1.000000</td>\n",
       "      <td>1.000000</td>\n",
       "      <td>1.000000</td>\n",
       "      <td>1.000000</td>\n",
       "      <td>1.000000</td>\n",
       "      <td>1.000000</td>\n",
       "      <td>1.000000</td>\n",
       "      <td>...</td>\n",
       "      <td>1.000000</td>\n",
       "      <td>1.000000</td>\n",
       "      <td>1.000000</td>\n",
       "      <td>1.000000</td>\n",
       "      <td>1.000000</td>\n",
       "      <td>1.000000</td>\n",
       "      <td>1.000000</td>\n",
       "      <td>1.000000</td>\n",
       "      <td>1.000000</td>\n",
       "      <td>1.000000</td>\n",
       "    </tr>\n",
       "    <tr>\n",
       "      <th>1</th>\n",
       "      <td>0.969588</td>\n",
       "      <td>1.000866</td>\n",
       "      <td>1.001059</td>\n",
       "      <td>1.003171</td>\n",
       "      <td>1.004552</td>\n",
       "      <td>0.998936</td>\n",
       "      <td>1.005930</td>\n",
       "      <td>0.997054</td>\n",
       "      <td>0.997412</td>\n",
       "      <td>1.006873</td>\n",
       "      <td>...</td>\n",
       "      <td>1.008846</td>\n",
       "      <td>1.009065</td>\n",
       "      <td>0.993737</td>\n",
       "      <td>1.005476</td>\n",
       "      <td>1.025709</td>\n",
       "      <td>1.007940</td>\n",
       "      <td>1.002609</td>\n",
       "      <td>0.995558</td>\n",
       "      <td>0.974300</td>\n",
       "      <td>1.013962</td>\n",
       "    </tr>\n",
       "    <tr>\n",
       "      <th>2</th>\n",
       "      <td>0.964271</td>\n",
       "      <td>0.991141</td>\n",
       "      <td>0.983894</td>\n",
       "      <td>1.008650</td>\n",
       "      <td>1.021633</td>\n",
       "      <td>1.008330</td>\n",
       "      <td>0.999972</td>\n",
       "      <td>0.993050</td>\n",
       "      <td>0.993835</td>\n",
       "      <td>1.001850</td>\n",
       "      <td>...</td>\n",
       "      <td>1.021317</td>\n",
       "      <td>1.012560</td>\n",
       "      <td>0.993334</td>\n",
       "      <td>1.015478</td>\n",
       "      <td>1.023131</td>\n",
       "      <td>1.001447</td>\n",
       "      <td>0.994890</td>\n",
       "      <td>0.988292</td>\n",
       "      <td>0.968104</td>\n",
       "      <td>1.020881</td>\n",
       "    </tr>\n",
       "    <tr>\n",
       "      <th>3</th>\n",
       "      <td>0.965025</td>\n",
       "      <td>1.012464</td>\n",
       "      <td>0.977710</td>\n",
       "      <td>1.023418</td>\n",
       "      <td>1.023299</td>\n",
       "      <td>1.007999</td>\n",
       "      <td>0.998901</td>\n",
       "      <td>0.986788</td>\n",
       "      <td>1.002520</td>\n",
       "      <td>0.995223</td>\n",
       "      <td>...</td>\n",
       "      <td>1.028345</td>\n",
       "      <td>1.009580</td>\n",
       "      <td>1.004619</td>\n",
       "      <td>1.024359</td>\n",
       "      <td>1.039948</td>\n",
       "      <td>0.999070</td>\n",
       "      <td>0.998963</td>\n",
       "      <td>0.986441</td>\n",
       "      <td>0.960812</td>\n",
       "      <td>1.029216</td>\n",
       "    </tr>\n",
       "    <tr>\n",
       "      <th>4</th>\n",
       "      <td>0.975117</td>\n",
       "      <td>0.991221</td>\n",
       "      <td>0.978351</td>\n",
       "      <td>1.045558</td>\n",
       "      <td>1.021298</td>\n",
       "      <td>1.009191</td>\n",
       "      <td>0.996512</td>\n",
       "      <td>0.986270</td>\n",
       "      <td>1.017272</td>\n",
       "      <td>0.988328</td>\n",
       "      <td>...</td>\n",
       "      <td>1.018760</td>\n",
       "      <td>1.014950</td>\n",
       "      <td>1.014649</td>\n",
       "      <td>1.041388</td>\n",
       "      <td>1.043438</td>\n",
       "      <td>1.010175</td>\n",
       "      <td>0.996733</td>\n",
       "      <td>0.975589</td>\n",
       "      <td>0.958506</td>\n",
       "      <td>1.029649</td>\n",
       "    </tr>\n",
       "    <tr>\n",
       "      <th>...</th>\n",
       "      <td>...</td>\n",
       "      <td>...</td>\n",
       "      <td>...</td>\n",
       "      <td>...</td>\n",
       "      <td>...</td>\n",
       "      <td>...</td>\n",
       "      <td>...</td>\n",
       "      <td>...</td>\n",
       "      <td>...</td>\n",
       "      <td>...</td>\n",
       "      <td>...</td>\n",
       "      <td>...</td>\n",
       "      <td>...</td>\n",
       "      <td>...</td>\n",
       "      <td>...</td>\n",
       "      <td>...</td>\n",
       "      <td>...</td>\n",
       "      <td>...</td>\n",
       "      <td>...</td>\n",
       "      <td>...</td>\n",
       "      <td>...</td>\n",
       "    </tr>\n",
       "    <tr>\n",
       "      <th>2516</th>\n",
       "      <td>1.000545</td>\n",
       "      <td>1.990731</td>\n",
       "      <td>1.690466</td>\n",
       "      <td>1.326642</td>\n",
       "      <td>1.918806</td>\n",
       "      <td>2.391524</td>\n",
       "      <td>2.555813</td>\n",
       "      <td>2.854992</td>\n",
       "      <td>2.147426</td>\n",
       "      <td>1.192026</td>\n",
       "      <td>...</td>\n",
       "      <td>3.279112</td>\n",
       "      <td>3.034006</td>\n",
       "      <td>1.886754</td>\n",
       "      <td>1.499966</td>\n",
       "      <td>2.867700</td>\n",
       "      <td>5.210260</td>\n",
       "      <td>5.665320</td>\n",
       "      <td>1.821214</td>\n",
       "      <td>3.220307</td>\n",
       "      <td>2.538980</td>\n",
       "    </tr>\n",
       "    <tr>\n",
       "      <th>2517</th>\n",
       "      <td>1.015627</td>\n",
       "      <td>2.019833</td>\n",
       "      <td>1.677305</td>\n",
       "      <td>1.310468</td>\n",
       "      <td>1.920797</td>\n",
       "      <td>2.384607</td>\n",
       "      <td>2.537806</td>\n",
       "      <td>2.818609</td>\n",
       "      <td>2.131567</td>\n",
       "      <td>1.177630</td>\n",
       "      <td>...</td>\n",
       "      <td>3.269774</td>\n",
       "      <td>3.069164</td>\n",
       "      <td>1.899750</td>\n",
       "      <td>1.514635</td>\n",
       "      <td>2.860136</td>\n",
       "      <td>5.075206</td>\n",
       "      <td>5.620070</td>\n",
       "      <td>1.823695</td>\n",
       "      <td>3.268533</td>\n",
       "      <td>2.534833</td>\n",
       "    </tr>\n",
       "    <tr>\n",
       "      <th>2518</th>\n",
       "      <td>1.002181</td>\n",
       "      <td>2.010122</td>\n",
       "      <td>1.667810</td>\n",
       "      <td>1.322135</td>\n",
       "      <td>1.917917</td>\n",
       "      <td>2.397739</td>\n",
       "      <td>2.550976</td>\n",
       "      <td>2.796206</td>\n",
       "      <td>2.120029</td>\n",
       "      <td>1.190727</td>\n",
       "      <td>...</td>\n",
       "      <td>3.226431</td>\n",
       "      <td>3.080619</td>\n",
       "      <td>1.908874</td>\n",
       "      <td>1.534947</td>\n",
       "      <td>2.876128</td>\n",
       "      <td>5.148725</td>\n",
       "      <td>5.639958</td>\n",
       "      <td>1.814461</td>\n",
       "      <td>3.308101</td>\n",
       "      <td>2.537229</td>\n",
       "    </tr>\n",
       "    <tr>\n",
       "      <th>2519</th>\n",
       "      <td>0.987405</td>\n",
       "      <td>2.002766</td>\n",
       "      <td>1.675478</td>\n",
       "      <td>1.330468</td>\n",
       "      <td>1.923855</td>\n",
       "      <td>2.401436</td>\n",
       "      <td>2.527243</td>\n",
       "      <td>2.819459</td>\n",
       "      <td>2.109840</td>\n",
       "      <td>1.183442</td>\n",
       "      <td>...</td>\n",
       "      <td>3.243946</td>\n",
       "      <td>3.085076</td>\n",
       "      <td>1.933781</td>\n",
       "      <td>1.560377</td>\n",
       "      <td>2.844130</td>\n",
       "      <td>5.124507</td>\n",
       "      <td>5.562119</td>\n",
       "      <td>1.808651</td>\n",
       "      <td>3.293665</td>\n",
       "      <td>2.544595</td>\n",
       "    </tr>\n",
       "    <tr>\n",
       "      <th>2520</th>\n",
       "      <td>0.973709</td>\n",
       "      <td>1.984182</td>\n",
       "      <td>1.645454</td>\n",
       "      <td>1.316931</td>\n",
       "      <td>1.915025</td>\n",
       "      <td>2.376821</td>\n",
       "      <td>2.576761</td>\n",
       "      <td>2.845317</td>\n",
       "      <td>2.140866</td>\n",
       "      <td>1.182669</td>\n",
       "      <td>...</td>\n",
       "      <td>3.245777</td>\n",
       "      <td>3.101176</td>\n",
       "      <td>1.942207</td>\n",
       "      <td>1.563150</td>\n",
       "      <td>2.822533</td>\n",
       "      <td>5.162954</td>\n",
       "      <td>5.613360</td>\n",
       "      <td>1.811323</td>\n",
       "      <td>3.290107</td>\n",
       "      <td>2.509377</td>\n",
       "    </tr>\n",
       "  </tbody>\n",
       "</table>\n",
       "<p>2521 rows × 500 columns</p>\n",
       "</div>"
      ],
      "text/plain": [
       "           0         1         2         3         4         5         6    \\\n",
       "0     1.000000  1.000000  1.000000  1.000000  1.000000  1.000000  1.000000   \n",
       "1     0.969588  1.000866  1.001059  1.003171  1.004552  0.998936  1.005930   \n",
       "2     0.964271  0.991141  0.983894  1.008650  1.021633  1.008330  0.999972   \n",
       "3     0.965025  1.012464  0.977710  1.023418  1.023299  1.007999  0.998901   \n",
       "4     0.975117  0.991221  0.978351  1.045558  1.021298  1.009191  0.996512   \n",
       "...        ...       ...       ...       ...       ...       ...       ...   \n",
       "2516  1.000545  1.990731  1.690466  1.326642  1.918806  2.391524  2.555813   \n",
       "2517  1.015627  2.019833  1.677305  1.310468  1.920797  2.384607  2.537806   \n",
       "2518  1.002181  2.010122  1.667810  1.322135  1.917917  2.397739  2.550976   \n",
       "2519  0.987405  2.002766  1.675478  1.330468  1.923855  2.401436  2.527243   \n",
       "2520  0.973709  1.984182  1.645454  1.316931  1.915025  2.376821  2.576761   \n",
       "\n",
       "           7         8         9    ...       490       491       492  \\\n",
       "0     1.000000  1.000000  1.000000  ...  1.000000  1.000000  1.000000   \n",
       "1     0.997054  0.997412  1.006873  ...  1.008846  1.009065  0.993737   \n",
       "2     0.993050  0.993835  1.001850  ...  1.021317  1.012560  0.993334   \n",
       "3     0.986788  1.002520  0.995223  ...  1.028345  1.009580  1.004619   \n",
       "4     0.986270  1.017272  0.988328  ...  1.018760  1.014950  1.014649   \n",
       "...        ...       ...       ...  ...       ...       ...       ...   \n",
       "2516  2.854992  2.147426  1.192026  ...  3.279112  3.034006  1.886754   \n",
       "2517  2.818609  2.131567  1.177630  ...  3.269774  3.069164  1.899750   \n",
       "2518  2.796206  2.120029  1.190727  ...  3.226431  3.080619  1.908874   \n",
       "2519  2.819459  2.109840  1.183442  ...  3.243946  3.085076  1.933781   \n",
       "2520  2.845317  2.140866  1.182669  ...  3.245777  3.101176  1.942207   \n",
       "\n",
       "           493       494       495       496       497       498       499  \n",
       "0     1.000000  1.000000  1.000000  1.000000  1.000000  1.000000  1.000000  \n",
       "1     1.005476  1.025709  1.007940  1.002609  0.995558  0.974300  1.013962  \n",
       "2     1.015478  1.023131  1.001447  0.994890  0.988292  0.968104  1.020881  \n",
       "3     1.024359  1.039948  0.999070  0.998963  0.986441  0.960812  1.029216  \n",
       "4     1.041388  1.043438  1.010175  0.996733  0.975589  0.958506  1.029649  \n",
       "...        ...       ...       ...       ...       ...       ...       ...  \n",
       "2516  1.499966  2.867700  5.210260  5.665320  1.821214  3.220307  2.538980  \n",
       "2517  1.514635  2.860136  5.075206  5.620070  1.823695  3.268533  2.534833  \n",
       "2518  1.534947  2.876128  5.148725  5.639958  1.814461  3.308101  2.537229  \n",
       "2519  1.560377  2.844130  5.124507  5.562119  1.808651  3.293665  2.544595  \n",
       "2520  1.563150  2.822533  5.162954  5.613360  1.811323  3.290107  2.509377  \n",
       "\n",
       "[2521 rows x 500 columns]"
      ]
     },
     "execution_count": 38,
     "metadata": {},
     "output_type": "execute_result"
    }
   ],
   "source": [
    "# Run the Monte Carlo simulation to forecast 10 years cumulative returns\n",
    "mc_2080_weight.calc_cumulative_return()\n"
   ]
  },
  {
   "cell_type": "code",
   "execution_count": 39,
   "metadata": {},
   "outputs": [
    {
     "data": {
      "image/png": "[encoded data removed]",
      "text/plain": [
       "<Figure size 640x480 with 1 Axes>"
      ]
     },
     "metadata": {},
     "output_type": "display_data"
    }
   ],
   "source": [
    "# Visualize the 10-year Monte Carlo simulation by creating an\n",
    "# overlay line plot\n",
    "mc_2080_line_plot=mc_2080_weight.plot_simulation()"
   ]
  },
  {
   "cell_type": "code",
   "execution_count": 40,
   "metadata": {},
   "outputs": [
    {
     "data": {
      "image/png": "[encoded data removed]",
      "text/plain": [
       "<Figure size 640x480 with 1 Axes>"
      ]
     },
     "metadata": {},
     "output_type": "display_data"
    }
   ],
   "source": [
    "# Visualize the probability distribution of the 10-year Monte Carlo simulation \n",
    "# by plotting a histogram\n",
    "mc_2080_distribution_plot = mc_2080_weight.plot_distribution()\n"
   ]
  },
  {
   "cell_type": "code",
   "execution_count": 41,
   "metadata": {},
   "outputs": [
    {
     "data": {
      "text/plain": [
       "count           500.000000\n",
       "mean              2.665739\n",
       "std               1.440408\n",
       "min               0.323471\n",
       "25%               1.719388\n",
       "50%               2.340479\n",
       "75%               3.205060\n",
       "max              10.623774\n",
       "95% CI Lower      0.954348\n",
       "95% CI Upper      6.663226\n",
       "Name: 2520, dtype: float64"
      ]
     },
     "execution_count": 41,
     "metadata": {},
     "output_type": "execute_result"
    }
   ],
   "source": [
    "# Generate summary statistics from the 10-year Monte Carlo simulation results\n",
    "# Save the results as a variable\n",
    "mc_2080_stats_10_years = mc_2080_weight.summarize_cumulative_return()\n",
    "\n",
    "\n",
    "# Review the 10-year Monte Carlo summary statistics\n",
    "mc_2080_stats_10_years"
   ]
  },
  {
   "cell_type": "markdown",
   "metadata": {},
   "source": [
    "### Answer the following questions:"
   ]
  },
  {
   "cell_type": "markdown",
   "metadata": {},
   "source": [
    "#### Question: Using the current value of only the stock and bond portion of the member's portfolio and the summary statistics that you generated from the new Monte Carlo simulation, what are the lower and upper bounds for the expected value of the portfolio (with the new weights) with a 95% confidence interval?"
   ]
  },
  {
   "cell_type": "code",
   "execution_count": 42,
   "metadata": {},
   "outputs": [
    {
     "name": "stdout",
     "output_type": "stream",
     "text": [
      "The current balance of the stock and bond portion of the members portfolio is $37023.3\n"
     ]
    }
   ],
   "source": [
    "# Print the current balance of the stock and bond portion of the members portfolio\n",
    "print(f\"The current balance of the stock and bond portion of the members portfolio is ${total_stocks_bonds}\")\n"
   ]
  },
  {
   "cell_type": "code",
   "execution_count": 43,
   "metadata": {},
   "outputs": [
    {
     "name": "stdout",
     "output_type": "stream",
     "text": [
      " The lower `95%` confidence intervals to calculate the range of the possible outcomes for the current stock/bond portfolio is $35333.11\n",
      " The upper `95%` confidence intervals to calculate the range of the possible outcomes for the current stock/bond portfolio is $246694.61\n"
     ]
    }
   ],
   "source": [
    "# Use the lower and upper `95%` confidence intervals to calculate the range of the possible outcomes for the current stock/bond portfolio\n",
    "ci_lower_ten_cumulative_return = mc_2080_stats_10_years[8] * total_stocks_bonds\n",
    "ci_upper_ten_cumulative_return = mc_2080_stats_10_years[9] * total_stocks_bonds\n",
    "\n",
    "# Print the result of your calculations\n",
    "print(f\" The lower `95%` confidence intervals to calculate the range of the possible outcomes for the current stock/bond portfolio is ${ci_lower_ten_cumulative_return :.2f}\")\n",
    "print(f\" The upper `95%` confidence intervals to calculate the range of the possible outcomes for the current stock/bond portfolio is ${ci_upper_ten_cumulative_return :.2f}\")\n"
   ]
  },
  {
   "cell_type": "markdown",
   "metadata": {},
   "source": [
    "#### Question: Will weighting the portfolio more heavily to stocks allow the credit union members to retire after only 10 years?"
   ]
  },
  {
   "cell_type": "raw",
   "metadata": {},
   "source": [
    "**Answer** # YOUR ANSWER HERE"
   ]
  },
  {
   "cell_type": "code",
   "execution_count": 44,
   "metadata": {},
   "outputs": [
    {
     "name": "stdout",
     "output_type": "stream",
     "text": [
      "**Answer** : It's very unlikely that weighting the portfolio more heavily towards stocks would allow the members to retire after only 10 years. With their current monthly expenses of $12,000.00, there is up to a 95% chance they would only have enough in stock/bond retirement accounts to survive for maximum of 4.60 months, or 0.38 years without accounting for inflation\n"
     ]
    }
   ],
   "source": [
    "print(f\"**Answer** : It's very unlikely that weighting the portfolio more heavily towards stocks would allow the members to retire after only 10 years. With their current monthly expenses of $12,000.00, there is up to a 95% chance they would only have enough in stock/bond retirement accounts to survive for maximum of 4.60 months, or 0.38 years without accounting for inflation\")\n",
    " "
   ]
  }
 ],
 "metadata": {
  "kernelspec": {
   "display_name": "Python 3 (ipykernel)",
   "language": "python",
   "name": "python3"
  },
  "language_info": {
   "codemirror_mode": {
    "name": "ipython",
    "version": 3
   },
   "file_extension": ".py",
   "mimetype": "text/x-python",
   "name": "python",
   "nbconvert_exporter": "python",
   "pygments_lexer": "ipython3",
   "version": "3.9.13"
  }
 },
 "nbformat": 4,
 "nbformat_minor": 4
}
